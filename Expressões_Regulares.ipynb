{
  "nbformat": 4,
  "nbformat_minor": 0,
  "metadata": {
    "colab": {
      "name": "Expressões_Regulares.ipynb",
      "provenance": [],
      "collapsed_sections": [],
      "toc_visible": true,
      "include_colab_link": true
    },
    "kernelspec": {
      "name": "python3",
      "display_name": "Python 3"
    },
    "language_info": {
      "name": "python"
    }
  },
  "cells": [
    {
      "cell_type": "markdown",
      "metadata": {
        "id": "view-in-github",
        "colab_type": "text"
      },
      "source": [
        "<a href=\"https://colab.research.google.com/github/LidianoJesus/Basic-Projects/blob/master/Express%C3%B5es_Regulares.ipynb\" target=\"_parent\"><img src=\"https://colab.research.google.com/assets/colab-badge.svg\" alt=\"Open In Colab\"/></a>"
      ]
    },
    {
      "cell_type": "code",
      "metadata": {
        "id": "cOm3BAyHkx22"
      },
      "source": [
        "# Importando a Lib para operar com Expressões Regulares\n",
        "import re"
      ],
      "execution_count": null,
      "outputs": []
    },
    {
      "cell_type": "code",
      "metadata": {
        "id": "Lr3kodDWlETQ"
      },
      "source": [
        "# --- Vamos usar essa frase para nosso tutorial ---\n",
        "Frase = 'Vamos entender como funciona Expressões Regulares em 2021 !'"
      ],
      "execution_count": null,
      "outputs": []
    },
    {
      "cell_type": "code",
      "metadata": {
        "colab": {
          "base_uri": "https://localhost:8080/"
        },
        "id": "1iSzenE_lf4_",
        "outputId": "bff0a80d-c801-43c8-ec05-514d57af8b67"
      },
      "source": [
        "# Vamos retornar palavras de uma Frase\n",
        "\n",
        "# Função findall --> Retorna uma lista contendo todas as correspondências\n",
        "Retornar_01 = re.findall('Expressões Regulares', Frase)\n",
        "Retornar_02 = re.findall('Vamos', Frase)\n",
        "Retornar_03 = re.findall('2021', Frase)\n",
        "\n",
        "print( Retornar_01, '\\n' )\n",
        "print( Retornar_02, '\\n' )\n",
        "print( Retornar_03 )"
      ],
      "execution_count": null,
      "outputs": [
        {
          "output_type": "stream",
          "text": [
            "['Expressões Regulares'] \n",
            "\n",
            "['Vamos'] \n",
            "\n",
            "['2021']\n"
          ],
          "name": "stdout"
        }
      ]
    },
    {
      "cell_type": "code",
      "metadata": {
        "colab": {
          "base_uri": "https://localhost:8080/"
        },
        "id": "NLZUmkhUq0GM",
        "outputId": "7242ef4c-026c-4033-f3b2-4f469c31d504"
      },
      "source": [
        "# Parametro [a-z]\n",
        "# Vamos retornar uma lista passando o alfabeto como parametro\n",
        "# Nesse caso a função irá retornar as letras de A a E\n",
        "Retornar_Alfabeto = re.findall('[a-d]', Frase)\n",
        "print( Retornar_Alfabeto )"
      ],
      "execution_count": null,
      "outputs": [
        {
          "output_type": "stream",
          "text": [
            "['a', 'd', 'c', 'c', 'a', 'a']\n"
          ],
          "name": "stdout"
        }
      ]
    },
    {
      "cell_type": "code",
      "metadata": {
        "colab": {
          "base_uri": "https://localhost:8080/"
        },
        "id": "omR0k4GcrDRz",
        "outputId": "2f995e6a-62fc-4fff-c64c-c036457c0046"
      },
      "source": [
        "# Parametro ...\n",
        "# Vamos retonrar uma sequência mas não especificando todas as letras\n",
        "# Vamos passar o '...' (pontinhos) para informar a quantidade\n",
        "Retornar_Sequencia_01 = re.findall('ente...r', Frase)\n",
        "Retornar_Sequencia_02 = re.findall('Ex.......s', Frase)\n",
        "Retornar_Sequencia_03 = re.findall('.egulares', Frase)\n",
        "\n",
        "print( Retornar_Sequencia_01, '\\n' )\n",
        "print( Retornar_Sequencia_02, '\\n' )\n",
        "print( Retornar_Sequencia_03 )"
      ],
      "execution_count": null,
      "outputs": [
        {
          "output_type": "stream",
          "text": [
            "['entender'] \n",
            "\n",
            "['Expressões'] \n",
            "\n",
            "['Regulares']\n"
          ],
          "name": "stdout"
        }
      ]
    },
    {
      "cell_type": "code",
      "metadata": {
        "colab": {
          "base_uri": "https://localhost:8080/"
        },
        "id": "LwWJHn8yrDUb",
        "outputId": "3383f8f9-3809-4102-9622-bef8fd0969d9"
      },
      "source": [
        "# Parametro ^\n",
        "# Vamos retornar algo que começe com algum parametro\n",
        "# Nesse caso será retornando a palavra caso localizado\n",
        "Retornar_Comeco_01 = re.findall('^Vamos', Frase)\n",
        "Retornar_Comeco_02 = re.findall('^entender', Frase)\n",
        "\n",
        "print(Retornar_Comeco_01, '\\n')\n",
        "# nesse caso sera vazia pq a frase não começa 'entender'\n",
        "print(Retornar_Comeco_02) "
      ],
      "execution_count": null,
      "outputs": [
        {
          "output_type": "stream",
          "text": [
            "['Vamos'] \n",
            "\n",
            "[]\n"
          ],
          "name": "stdout"
        }
      ]
    },
    {
      "cell_type": "code",
      "metadata": {
        "colab": {
          "base_uri": "https://localhost:8080/"
        },
        "id": "W6oz9S1TrDWi",
        "outputId": "db27e2fc-8092-49e4-91e0-1d8b053fda42"
      },
      "source": [
        "# Parametro $\n",
        "# Vamos retornar algo que termine com algum parametro\n",
        "# Nesse caso será retornando a palavra caso localizado\n",
        "Retornar_Final_01 = re.findall('Vamos$', Frase)\n",
        "Retornar_Final_02 = re.findall('!$', Frase)\n",
        "\n",
        "# nesse caso sera vazia pq a frase não termina com '!'\n",
        "print(Retornar_Final_01, '\\n')\n",
        "print(Retornar_Final_02) "
      ],
      "execution_count": null,
      "outputs": [
        {
          "output_type": "stream",
          "text": [
            "[] \n",
            "\n",
            "['!']\n"
          ],
          "name": "stdout"
        }
      ]
    },
    {
      "cell_type": "code",
      "metadata": {
        "colab": {
          "base_uri": "https://localhost:8080/"
        },
        "id": "XYMM8mpBtW1R",
        "outputId": "a3455c9c-8f3f-45b6-a03f-3b5f5e9a823d"
      },
      "source": [
        "# Parametro {}\n",
        "# Retornando com numero exato de ocorrência\n",
        "# Irá verificar se a palavra é seguida de 2 s\n",
        "# Nesse caso é verificado se a ultima letra se repete \n",
        "# Caso positivo irá retornar o valor\n",
        "Retornar_Exato = re.findall('es{2}', Frase)\n",
        "print( Retornar_Exato )"
      ],
      "execution_count": null,
      "outputs": [
        {
          "output_type": "stream",
          "text": [
            "['ess']\n"
          ],
          "name": "stdout"
        }
      ]
    },
    {
      "cell_type": "code",
      "metadata": {
        "colab": {
          "base_uri": "https://localhost:8080/"
        },
        "id": "cKnNqL2Qzbsd",
        "outputId": "a5c733ea-f19d-4064-f112-18f74fea98a5"
      },
      "source": [
        "# Parametro |\n",
        "# Retornando uma palavra com uma condição 'OU'\n",
        "Retornar_Condicao_01 = re.findall('como|talvez', Frase)\n",
        "Retornar_Condicao_02 = re.findall('Não|entender', Frase)\n",
        "\n",
        "print( Retornar_Condicao_01, '\\n' )\n",
        "print( Retornar_Condicao_02, '\\n' )"
      ],
      "execution_count": null,
      "outputs": [
        {
          "output_type": "stream",
          "text": [
            "['como'] \n",
            "\n",
            "['entender'] \n",
            "\n"
          ],
          "name": "stdout"
        }
      ]
    },
    {
      "cell_type": "code",
      "metadata": {
        "colab": {
          "base_uri": "https://localhost:8080/"
        },
        "id": "_pTt0Nq2zbxU",
        "outputId": "e9d4f1dc-df0b-4d43-f6ab-116eb139079b"
      },
      "source": [
        "# Parametro:  \\A\n",
        "# Retorna uma correspondência se os caracteres especificados\n",
        "# estiverem no início da string\n",
        "Retornando_Especificado_Inicio_01 = re.findall('\\AVamos', Frase)\n",
        "Retornando_Especificado_Inicio_02 = re.findall('\\Aentender', Frase)\n",
        "\n",
        "print(Retornando_Especificado_Inicio_01, '\\n')\n",
        "print(Retornando_Especificado_Inicio_02)"
      ],
      "execution_count": null,
      "outputs": [
        {
          "output_type": "stream",
          "text": [
            "['Vamos'] \n",
            "\n",
            "[]\n"
          ],
          "name": "stdout"
        }
      ]
    },
    {
      "cell_type": "code",
      "metadata": {
        "colab": {
          "base_uri": "https://localhost:8080/"
        },
        "id": "LPxP-WrWzb1m",
        "outputId": "57fa5bce-5c21-4c9f-89db-0aabb556f9c5"
      },
      "source": [
        "# Parametro: \\b\n",
        "# Retorna uma correspondência onde os caracteres especificados\n",
        "# estão no início ou no final de uma palavra\n",
        "\n",
        "# Passando o \\b como inicio\n",
        "Retornando_Especificado_Inicio_Fim_01 = re.findall(r'\\bmos', Frase)\n",
        "# Passando o \\b como final\n",
        "Retornando_Especificado_Inicio_Fim_02 = re.findall(r'mos\\b', Frase)\n",
        "\n",
        "print(Retornando_Especificado_Inicio_Fim_01, '\\n')\n",
        "print(Retornando_Especificado_Inicio_Fim_02 )"
      ],
      "execution_count": null,
      "outputs": [
        {
          "output_type": "stream",
          "text": [
            "[] \n",
            "\n",
            "['mos']\n"
          ],
          "name": "stdout"
        }
      ]
    },
    {
      "cell_type": "code",
      "metadata": {
        "colab": {
          "base_uri": "https://localhost:8080/"
        },
        "id": "7kDQuxnHzb5U",
        "outputId": "630d79cb-1c4f-4c72-d5cd-5321f8f751f8"
      },
      "source": [
        "# Parametro: \\B\n",
        "# Retorna uma correspondência onde os caracteres especificados estão presentes, \n",
        "# mas NÃO no início (ou no final) de uma palavra\n",
        "\n",
        "# Passando o \\B como inicio\n",
        "Retornando_Especificado_Inicio_Fim_01 = re.findall(r'\\Bona', Frase)\n",
        "# Passando o \\B como final\n",
        "Retornando_Especificado_Inicio_Fim_02 = re.findall(r'ona\\B', Frase)\n",
        "\n",
        "print(Retornando_Especificado_Inicio_Fim_01, '\\n')\n",
        "print(Retornando_Especificado_Inicio_Fim_02 )"
      ],
      "execution_count": null,
      "outputs": [
        {
          "output_type": "stream",
          "text": [
            "['ona'] \n",
            "\n",
            "[]\n"
          ],
          "name": "stdout"
        }
      ]
    },
    {
      "cell_type": "code",
      "metadata": {
        "colab": {
          "base_uri": "https://localhost:8080/"
        },
        "id": "iXaeV-U2rDPM",
        "outputId": "e711a34c-3481-4f0c-a5e2-bae2d31a132d"
      },
      "source": [
        "# Parametro \\d\n",
        "# Vamos retornar apenas valores numericos\n",
        "Retornar_Apenas_Numeros = re.findall('\\d', Frase)\n",
        "print( Retornar_Apenas_Numeros )"
      ],
      "execution_count": null,
      "outputs": [
        {
          "output_type": "stream",
          "text": [
            "['2', '0', '2', '1']\n"
          ],
          "name": "stdout"
        }
      ]
    },
    {
      "cell_type": "code",
      "metadata": {
        "colab": {
          "base_uri": "https://localhost:8080/"
        },
        "id": "XRJ5Xeewzb8J",
        "outputId": "d4a0df2d-a7ec-4dc5-caf8-7903cdf821bc"
      },
      "source": [
        "# Parametro \\D\n",
        "# Retorna uma correspondência onde a string NÃO contém dígitos\n",
        "Retornando_Sem_Numeros = re.findall('\\D', Frase)\n",
        "print(Retornando_Sem_Numeros)"
      ],
      "execution_count": null,
      "outputs": [
        {
          "output_type": "stream",
          "text": [
            "['V', 'a', 'm', 'o', 's', ' ', 'e', 'n', 't', 'e', 'n', 'd', 'e', 'r', ' ', 'c', 'o', 'm', 'o', ' ', 'f', 'u', 'n', 'c', 'i', 'o', 'n', 'a', ' ', 'E', 'x', 'p', 'r', 'e', 's', 's', 'õ', 'e', 's', ' ', 'R', 'e', 'g', 'u', 'l', 'a', 'r', 'e', 's', ' ', 'e', 'm', ' ', ' ', '!']\n"
          ],
          "name": "stdout"
        }
      ]
    },
    {
      "cell_type": "code",
      "metadata": {
        "colab": {
          "base_uri": "https://localhost:8080/"
        },
        "id": "MChVqrEetWyl",
        "outputId": "dcc3bc69-148b-42f6-b218-549d977aebc5"
      },
      "source": [
        "# Parametro \\s\n",
        "# Retorna uma correspondência onde a string contém um caractere de espaço em branco\n",
        "Retornando_Espacos = re.findall('\\s', Frase)\n",
        "print( Retornando_Espacos )"
      ],
      "execution_count": null,
      "outputs": [
        {
          "output_type": "stream",
          "text": [
            "[' ', ' ', ' ', ' ', ' ', ' ', ' ', ' ']\n"
          ],
          "name": "stdout"
        }
      ]
    },
    {
      "cell_type": "code",
      "metadata": {
        "colab": {
          "base_uri": "https://localhost:8080/"
        },
        "id": "K6_sBDbJ7Tgo",
        "outputId": "0347619c-d0d5-485b-dd4c-4bae5eda6c48"
      },
      "source": [
        "# Parametro \\S\n",
        "# Retorna uma correspondência onde a string NÃO contém um caractere de espaço em branco\n",
        "Retornando_Espacos = re.findall('\\S', Frase)\n",
        "print( Retornando_Espacos )"
      ],
      "execution_count": null,
      "outputs": [
        {
          "output_type": "stream",
          "text": [
            "['V', 'a', 'm', 'o', 's', 'e', 'n', 't', 'e', 'n', 'd', 'e', 'r', 'c', 'o', 'm', 'o', 'f', 'u', 'n', 'c', 'i', 'o', 'n', 'a', 'E', 'x', 'p', 'r', 'e', 's', 's', 'õ', 'e', 's', 'R', 'e', 'g', 'u', 'l', 'a', 'r', 'e', 's', 'e', 'm', '2', '0', '2', '1', '!']\n"
          ],
          "name": "stdout"
        }
      ]
    },
    {
      "cell_type": "code",
      "metadata": {
        "colab": {
          "base_uri": "https://localhost:8080/"
        },
        "id": "G4sRzmb27TjI",
        "outputId": "c4bea011-40ab-4e3a-dc43-e3ad8d4d5643"
      },
      "source": [
        "# Parametro \\w\n",
        "# Retorna uma correspondência em que a string contém quaisquer caracteres de palavra \n",
        "# (caracteres de a a Z, dígitos de 0-9 e o caractere sublinhado _)\n",
        "Retornando_Letras_Digitos = re.findall('\\w', Frase)\n",
        "print( Retornando_Letras_Digitos )"
      ],
      "execution_count": null,
      "outputs": [
        {
          "output_type": "stream",
          "text": [
            "['V', 'a', 'm', 'o', 's', 'e', 'n', 't', 'e', 'n', 'd', 'e', 'r', 'c', 'o', 'm', 'o', 'f', 'u', 'n', 'c', 'i', 'o', 'n', 'a', 'E', 'x', 'p', 'r', 'e', 's', 's', 'õ', 'e', 's', 'R', 'e', 'g', 'u', 'l', 'a', 'r', 'e', 's', 'e', 'm', '2', '0', '2', '1']\n"
          ],
          "name": "stdout"
        }
      ]
    },
    {
      "cell_type": "code",
      "metadata": {
        "colab": {
          "base_uri": "https://localhost:8080/"
        },
        "id": "B0KN73Ju7Tpb",
        "outputId": "065aa613-64e0-456d-86e4-3c493f6eb898"
      },
      "source": [
        "# Parametro \\W\n",
        "# Retorna uma correspondência em que a string NÃO contém nenhum caractere de palavra\n",
        "Retornando_Caracter_Espcial = re.findall('\\W', Frase)\n",
        "print( Retornando_Caracter_Espcial )"
      ],
      "execution_count": null,
      "outputs": [
        {
          "output_type": "stream",
          "text": [
            "[' ', ' ', ' ', ' ', ' ', ' ', ' ', ' ', '!']\n"
          ],
          "name": "stdout"
        }
      ]
    },
    {
      "cell_type": "code",
      "metadata": {
        "colab": {
          "base_uri": "https://localhost:8080/"
        },
        "id": "vgeg6OOK8EtE",
        "outputId": "0a0fcda9-92df-45cf-b43b-b54f7e5604a1"
      },
      "source": [
        "# Parametro [xxx]\n",
        "# Retorna uma correspondência onde qualquer um dos dígitos especificados\n",
        "Retorno_Numeros = re.findall('[202]', Frase)\n",
        "print( Retorno_Numeros )"
      ],
      "execution_count": null,
      "outputs": [
        {
          "output_type": "stream",
          "text": [
            "['2', '0', '2']\n"
          ],
          "name": "stdout"
        }
      ]
    },
    {
      "cell_type": "code",
      "metadata": {
        "colab": {
          "base_uri": "https://localhost:8080/"
        },
        "id": "CZE7lxs98EzK",
        "outputId": "147f9308-f2e0-47a1-db46-5371b03ca4de"
      },
      "source": [
        "# Parametro [x-x]\n",
        "# Retorna uma correspondência para qualquer dígito entre 0 e 9\n",
        "Retorno_Numeros_Range = re.findall('[0-1]', Frase)\n",
        "print( Retorno_Numeros_Range )"
      ],
      "execution_count": null,
      "outputs": [
        {
          "output_type": "stream",
          "text": [
            "['0', '1']\n"
          ],
          "name": "stdout"
        }
      ]
    },
    {
      "cell_type": "code",
      "metadata": {
        "colab": {
          "base_uri": "https://localhost:8080/"
        },
        "id": "FzU-JuuElhLX",
        "outputId": "88e43479-b633-4707-b8de-321bf31a8778"
      },
      "source": [
        "# Vamos pesquisar palavras na Frase\n",
        "\n",
        "# Função findall --> Retorna um objeto com a posição se houver uma \n",
        "#correspondência em qualquer lugar da string\n",
        "\n",
        "# Procurando um espaço\n",
        "Procurar_01 = re.search('\\s', Frase) \n",
        "\n",
        "# Procurando a palavra 'como'\n",
        "Procurar_02 = re.search('como', Frase) \n",
        "\n",
        "# Procurando a !('Exclamação')\n",
        "Procurar_03 = re.search('!', Frase) \n",
        "\n",
        "print( 'O \"espaço\" esta na posição: ', Procurar_01.start(), '\\n' )\n",
        "print( 'A palavra \"como\" esta na posição:', Procurar_02.start(), '\\n')\n",
        "print( 'A \"Exclamaçao\" esta na posição:', Procurar_03.start() )"
      ],
      "execution_count": null,
      "outputs": [
        {
          "output_type": "stream",
          "text": [
            "O \"espaço\" esta na posição:  5 \n",
            "\n",
            "A palavra \"como\" esta na posição: 15 \n",
            "\n",
            "A \"Exclamaçao\" esta na posição: 58\n"
          ],
          "name": "stdout"
        }
      ]
    },
    {
      "cell_type": "code",
      "metadata": {
        "colab": {
          "base_uri": "https://localhost:8080/"
        },
        "id": "vN8z3BUXnDnV",
        "outputId": "41cb3de9-1251-4e61-8b8e-35939d849211"
      },
      "source": [
        "# Quebrando/Separando uma string\n",
        "\n",
        "# Função Split --> Retorna uma lista onde a string foi dividida em cada partida\n",
        "\n",
        "# Separando a frase por um espaço\n",
        "Quebrando_01 = re.split('\\s', Frase) \n",
        "\n",
        "# Separando a frase pela palavra 'como'\n",
        "Quebrando_02 = re.split('como', Frase) \n",
        "\n",
        "# Separando a frase pela palavra 'em'\n",
        "Quebrando_03 = re.split('em', Frase) \n",
        "\n",
        "print( Quebrando_01, '\\n')\n",
        "print( Quebrando_02, '\\n')\n",
        "print( Quebrando_03)"
      ],
      "execution_count": null,
      "outputs": [
        {
          "output_type": "stream",
          "text": [
            "['Vamos', 'entender', 'como', 'funciona', 'Expressões', 'Regulares', 'em', '2021', '!'] \n",
            "\n",
            "['Vamos entender ', ' funciona Expressões Regulares em 2021 !'] \n",
            "\n",
            "['Vamos entender como funciona Expressões Regulares ', ' 2021 !']\n"
          ],
          "name": "stdout"
        }
      ]
    },
    {
      "cell_type": "code",
      "metadata": {
        "colab": {
          "base_uri": "https://localhost:8080/"
        },
        "id": "JvnIipSjo7Lg",
        "outputId": "af4f6dc5-9004-4de2-c5d7-14950e11c9bd"
      },
      "source": [
        "# Substituir uma palavra por outra\n",
        "\n",
        "# Função Sub --> Substitui uma ou mais correspondências por uma string\n",
        "\n",
        "# Substituindo o espaço pelo anderline\n",
        "Substituindo_01 = re.sub('\\s', '_|_', Frase) \n",
        "\n",
        "# Substituido a palavra 'como' por 'COMO'\n",
        "Substituindo_02 = re.sub('como', 'COMO', Frase) \n",
        "\n",
        "# Substituido a palavra 'em' por uma frase\n",
        "Substituindo_03 = re.sub('em', 'NO ANO de', Frase) \n",
        "\n",
        "print( Substituindo_01, '\\n')\n",
        "print( Substituindo_02, '\\n')\n",
        "print( Substituindo_03)"
      ],
      "execution_count": null,
      "outputs": [
        {
          "output_type": "stream",
          "text": [
            "Vamos_|_entender_|_como_|_funciona_|_Expressões_|_Regulares_|_em_|_2021_|_! \n",
            "\n",
            "Vamos entender COMO funciona Expressões Regulares em 2021 ! \n",
            "\n",
            "Vamos entender como funciona Expressões Regulares NO ANO de 2021 !\n"
          ],
          "name": "stdout"
        }
      ]
    },
    {
      "cell_type": "code",
      "metadata": {
        "colab": {
          "base_uri": "https://localhost:8080/"
        },
        "id": "K6K3oXnIqR9B",
        "outputId": "d694d863-5642-45ae-9c2a-8ad8862b7158"
      },
      "source": [
        "# ---- Exemplo do dia a dia ---- #\n",
        "\n",
        "# Email, SMS, Mensagem com informe para pagamento\n",
        "\n",
        "Mensagem = ( 'Olá Odemir, Segue o numero do codigo de barra para' +\n",
        "            'pagamento 222 333 4444 no valor de R$1999,00.' +\n",
        "            'com vencimento em 01/01/2021. Obrigado' )\n",
        "\n",
        "Filtrar_Numero_Boleto = re.findall(r'\\d{3} \\d{3} \\d{4}', Mensagem)\n",
        "Filtrar_Valor = re.findall('R\\W\\d{4}\\W\\d{2}', Mensagem)\n",
        "Filtrar_Data_Vencimento = re.findall('\\d{2}\\W\\d{2}\\W\\d{4}', Mensagem)\n",
        "\n",
        "print('Codigo de Barra:', Filtrar_Numero_Boleto[0] )\n",
        "print('Valor para Pagamento:', Filtrar_Valor[0] )\n",
        "print('Data Vencimento:', Filtrar_Data_Vencimento[0] )"
      ],
      "execution_count": null,
      "outputs": [
        {
          "output_type": "stream",
          "text": [
            "Codigo de Barra: 222 333 4444\n",
            "Valor para Pagamento: R$1999,00\n",
            "Data Vencimento: 01/01/2021\n"
          ],
          "name": "stdout"
        }
      ]
    },
    {
      "cell_type": "code",
      "metadata": {
        "id": "K5zKbOTZAVZ1",
        "colab": {
          "base_uri": "https://localhost:8080/",
          "height": 35
        },
        "outputId": "d8bd4e6d-22d6-4c32-e2a2-22acd3327672"
      },
      "source": [
        "import re\n",
        "\n",
        "Frase = 'Salvador - (BA)'\n",
        "\n",
        "re.sub( '\\W', '', str( re.findall(r'\\W\\w\\w\\W', Frase) ) )"
      ],
      "execution_count": null,
      "outputs": [
        {
          "output_type": "execute_result",
          "data": {
            "application/vnd.google.colaboratory.intrinsic+json": {
              "type": "string"
            },
            "text/plain": [
              "'BA'"
            ]
          },
          "metadata": {},
          "execution_count": 22
        }
      ]
    },
    {
      "cell_type": "code",
      "source": [
        ""
      ],
      "metadata": {
        "id": "MhdPexMB1aec"
      },
      "execution_count": null,
      "outputs": []
    }
  ]
}