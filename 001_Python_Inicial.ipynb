{
  "nbformat": 4,
  "nbformat_minor": 0,
  "metadata": {
    "colab": {
      "name": "001 - Python Inicial.ipynb",
      "provenance": [],
      "collapsed_sections": [],
      "toc_visible": true,
      "include_colab_link": true
    },
    "kernelspec": {
      "name": "python3",
      "display_name": "Python 3"
    },
    "language_info": {
      "name": "python"
    }
  },
  "cells": [
    {
      "cell_type": "markdown",
      "metadata": {
        "id": "view-in-github",
        "colab_type": "text"
      },
      "source": [
        "<a href=\"https://colab.research.google.com/github/LidianoJesus/Basic-Projects/blob/master/001_Python_Inicial.ipynb\" target=\"_parent\"><img src=\"https://colab.research.google.com/assets/colab-badge.svg\" alt=\"Open In Colab\"/></a>"
      ]
    },
    {
      "cell_type": "code",
      "metadata": {
        "colab": {
          "base_uri": "https://localhost:8080/"
        },
        "id": "5J6PO2rHJSOj",
        "outputId": "6f9b8d85-a3a6-4297-c841-0c508514d9f7"
      },
      "source": [
        "# Comentário usa o '#'\n",
        "print('Olá Mundão!')"
      ],
      "execution_count": null,
      "outputs": [
        {
          "output_type": "stream",
          "name": "stdout",
          "text": [
            "Olá Mundão!\n"
          ]
        }
      ]
    },
    {
      "cell_type": "code",
      "metadata": {
        "colab": {
          "base_uri": "https://localhost:8080/"
        },
        "id": "aILPfZTILaxz",
        "outputId": "76cb7920-37ae-41c1-e5f0-e9348003e041"
      },
      "source": [
        "# Operadores para cálculos\n",
        "Soma = 1 + 2\n",
        "Subtração = 1 - 1\n",
        "Multiplicação = 2 * 10\n",
        "Divisão = 10 / 2\n",
        "Exponenciação = 2 ** 2\n",
        "Resto_Divisao = 9 % 4\n",
        "Divisao_Chão = 9 // 4\n",
        "\n",
        "print( 'Somar:{}'.format(Soma) ) \n",
        "print( 'Subtração:', Subtração ) \n",
        "print( 'Multiplacação: {}' .format(Multiplicação) ) \n",
        "print( 'Divisão', Divisão ) \n",
        "print( 'Exponenciação: {}' .format(Exponenciação) )\n",
        "print( 'Resto_Divisao', Resto_Divisao )\n",
        "print( 'Divisao_Chão: {}'.format(Divisao_Chão) )\n",
        "print( 'Varios elementos: {}, {}, {}'.format(Soma, Subtração, Divisão) )"
      ],
      "execution_count": null,
      "outputs": [
        {
          "output_type": "stream",
          "name": "stdout",
          "text": [
            "Somar:3\n",
            "Subtração: 0\n",
            "Multiplacação: 20\n",
            "Divisão 5.0\n",
            "Exponenciação: 4\n",
            "Resto_Divisao 1\n",
            "Divisao_Chão: 2\n",
            "Varios elementos: 3, 0, 5.0\n"
          ]
        }
      ]
    },
    {
      "cell_type": "code",
      "metadata": {
        "id": "QW6XmQhAI0uI"
      },
      "source": [
        "# Tipos de Variaveis\n",
        "Inteiro_Exemplo_1 = int ( 100 )\n",
        "Inteiro_Exemplo_2 = 100\n",
        "\n",
        "Flutuante_Exemplo_1 = 10.50\n",
        "Flutuante_Exemplo_2 = float( 10.50 )\n",
        "\n",
        "Palavra_Exemplo_1 = 'Qualquer Palavra'\n",
        "Palavra_Exemplo_2 = str( 'Qualquer Palavra' )\n",
        "\n",
        "Booleando_Exemplo_1 = True \n",
        "Booleando_Exemplo_2 = False\n",
        "\n",
        "# Tipos de Dados\n",
        "Lista_Exemplo_1 = [1, 2, 3, 4, 5]\n",
        "Lista_Exemplo_2 = ['Nome', 'Quarto', 'Morango', 4, 5]\n",
        "Lista_Exemplo_3 = [1, 'Quarto', True, False]\n",
        "\n",
        "# Tuplas são imutaveis (Não modifica)\n",
        "Tupla_Exemplo_1 = ( 2, 3, 4, 6 )\n",
        "Tupla_Exemplo_2 = ( 'Odemir', 'Depieri', 4 )\n",
        "\n",
        "# Dicionário são para organizar os dados\n",
        "Dicionario = { 'Nome':'Odemir', 'Idade':29 }"
      ],
      "execution_count": null,
      "outputs": []
    },
    {
      "cell_type": "code",
      "metadata": {
        "colab": {
          "base_uri": "https://localhost:8080/"
        },
        "id": "3WhIEU5NJriR",
        "outputId": "e7278346-74e9-4a63-d70a-c998603a5db4"
      },
      "source": [
        "# Nomeando Variaveis | Exemplo 1\n",
        "Laranja, Melão, Limão = 1, 2, 3\n",
        "\n",
        "print( Laranja, Melão, Limão )"
      ],
      "execution_count": null,
      "outputs": [
        {
          "output_type": "stream",
          "name": "stdout",
          "text": [
            "1 2 3\n"
          ]
        }
      ]
    },
    {
      "cell_type": "code",
      "metadata": {
        "colab": {
          "base_uri": "https://localhost:8080/"
        },
        "id": "aOHD8THiJ6yH",
        "outputId": "28564be5-6b82-454b-cf1b-264d7a7bb1ea"
      },
      "source": [
        "# Nomeando Variaveis | Exemplo 2\n",
        "Morango = Uva = Kiwi = 100\n",
        "\n",
        "print( Morango, Uva, Kiwi )"
      ],
      "execution_count": null,
      "outputs": [
        {
          "output_type": "stream",
          "name": "stdout",
          "text": [
            "100 100 100\n"
          ]
        }
      ]
    },
    {
      "cell_type": "code",
      "metadata": {
        "colab": {
          "base_uri": "https://localhost:8080/"
        },
        "id": "Uf3MH1UiKElF",
        "outputId": "48f65e40-c882-4fb7-ef6b-4cff5dce26f7"
      },
      "source": [
        "# Nomeando Variaveis | Exemplo 3\n",
        "\n",
        "# Criando uma lista\n",
        "Carros = ['VW', 'GM', 'Ford']\n",
        "\n",
        "# Nomeando as variaveis com a lista\n",
        "Marca_01, Marca_02, Marca_03 = Carros\n",
        "\n",
        "print( Marca_03 )"
      ],
      "execution_count": null,
      "outputs": [
        {
          "output_type": "stream",
          "name": "stdout",
          "text": [
            "Ford\n"
          ]
        }
      ]
    },
    {
      "cell_type": "code",
      "metadata": {
        "colab": {
          "base_uri": "https://localhost:8080/"
        },
        "id": "bj4knwo2Kpev",
        "outputId": "0800fb01-0ed3-4fbc-c1bc-0306728f993f"
      },
      "source": [
        "# Combinando Variaveis | Exemplo 1\n",
        "Nome = 'Odemir'\n",
        "Sobrenome = 'Depieri'\n",
        "Nome_Completo = Nome + ' ' + Sobrenome\n",
        "\n",
        "print( Nome_Completo )"
      ],
      "execution_count": null,
      "outputs": [
        {
          "output_type": "stream",
          "name": "stdout",
          "text": [
            "Odemir Depieri\n"
          ]
        }
      ]
    },
    {
      "cell_type": "code",
      "metadata": {
        "colab": {
          "base_uri": "https://localhost:8080/"
        },
        "id": "anIJst0jK7U7",
        "outputId": "5ed8ff79-f5d0-4f83-bf89-76131bea1038"
      },
      "source": [
        "# Combinando Variaveis | Exemplo 2\n",
        "Dolar = 5.40\n",
        "Imposto = 0.20\n",
        "Valor_Liquido = Dolar - ( Dolar * Imposto )\n",
        "\n",
        "print( Valor_Liquido )"
      ],
      "execution_count": null,
      "outputs": [
        {
          "output_type": "stream",
          "name": "stdout",
          "text": [
            "4.32\n"
          ]
        }
      ]
    },
    {
      "cell_type": "code",
      "metadata": {
        "colab": {
          "base_uri": "https://localhost:8080/"
        },
        "id": "1kn2sMcXLThV",
        "outputId": "e7a5dd3a-b16e-4e7d-c6b9-c6fea1b4234c"
      },
      "source": [
        "# Comando Type\n",
        "# Verificar o tipo da informação\n",
        "\n",
        "A = 1\n",
        "B = 2.90\n",
        "C = 'Olá!'\n",
        "D = [1, 2, 3]\n",
        "E = ( 20, 30, 40)\n",
        "F = {'CPF':12345678910}\n",
        "G = False\n",
        "\n",
        "print( type(A) )\n",
        "print( type(B) )\n",
        "print( type(C) )\n",
        "print( type(D) )\n",
        "print( type(E) )\n",
        "print( type(F) )\n",
        "print( type(G) )"
      ],
      "execution_count": null,
      "outputs": [
        {
          "output_type": "stream",
          "name": "stdout",
          "text": [
            "<class 'int'>\n",
            "<class 'float'>\n",
            "<class 'str'>\n",
            "<class 'list'>\n",
            "<class 'tuple'>\n",
            "<class 'dict'>\n",
            "<class 'bool'>\n"
          ]
        }
      ]
    },
    {
      "cell_type": "code",
      "metadata": {
        "colab": {
          "base_uri": "https://localhost:8080/"
        },
        "id": "FUliA4wdQiLp",
        "outputId": "8fabaec9-9b57-4343-abec-3451c37593af"
      },
      "source": [
        "# Comando Round\n",
        "# Metodo round, arredonda valores\n",
        "\n",
        "Valor_Exemplo = 12.123456789\n",
        "\n",
        "print( round( Valor_Exemplo, 1 ) )\n",
        "print( round( Valor_Exemplo, 2 ) )\n",
        "print( round( Valor_Exemplo, 3 ) )\n",
        "print( round( Valor_Exemplo, 5 ) )"
      ],
      "execution_count": null,
      "outputs": [
        {
          "output_type": "stream",
          "name": "stdout",
          "text": [
            "12.1\n",
            "12.12\n",
            "12.123\n",
            "12.12346\n"
          ]
        }
      ]
    },
    {
      "cell_type": "code",
      "metadata": {
        "colab": {
          "base_uri": "https://localhost:8080/"
        },
        "id": "S8X6uNcDVjlQ",
        "outputId": "cbd8a1e9-af5b-4b32-ba3d-d2b5f3d22172"
      },
      "source": [
        "# Comando input\n",
        "# Enviar uma informação momentânea\n",
        "\n",
        "Nome = input('Qual seu nome? ')\n",
        "Idade = input('Quantos anos você tem? ')\n",
        "\n",
        "print('Seu nome é:', Nome)\n",
        "print('Sua idade:', Idade)"
      ],
      "execution_count": null,
      "outputs": [
        {
          "output_type": "stream",
          "name": "stdout",
          "text": [
            "Qual seu nome? Odemir\n",
            "Quantos anos você tem? 299\n",
            "Seu nome é: Odemir\n",
            "Sua idade: 299\n"
          ]
        }
      ]
    },
    {
      "cell_type": "code",
      "metadata": {
        "id": "An7_5WSdXQ-U",
        "colab": {
          "base_uri": "https://localhost:8080/"
        },
        "outputId": "7057d3ac-61f0-4138-96bb-273df9a4351b"
      },
      "source": [
        "# Operadores de Comparações - Parte 1\n",
        "Igual = '=='\n",
        "Diferente = '!='\n",
        "Maior = '>'\n",
        "Maior_Igual = '>='\n",
        "Menor = '<'\n",
        "Menor_Igual = '<='\n",
        "\n",
        "print('8 é maior que 7:', 8 > 7 )\n",
        "print('8 é menor que 7:', 8 < 7 )\n",
        "print('8 é igual 7:', 8 == 7 )\n",
        "print('10 é maior 10:', 10 > 10 )\n",
        "print('10 é maior ou igual à 10:', 10 >= 10 )\n",
        "print('10 é menor 10:', 10 < 10 )\n",
        "print('10 é menor ou igual à 10:', 10 <= 10 )"
      ],
      "execution_count": null,
      "outputs": [
        {
          "output_type": "stream",
          "name": "stdout",
          "text": [
            "8 é maior que 7: True\n",
            "8 é menor que 7: False\n",
            "8 é igual 7: False\n",
            "10 é maior 10: False\n",
            "10 é maior ou igual à 10: True\n",
            "10 é menor 10: False\n",
            "10 é menor ou igual à 10: True\n"
          ]
        }
      ]
    },
    {
      "cell_type": "code",
      "metadata": {
        "id": "PY8ckaPIXjtL",
        "colab": {
          "base_uri": "https://localhost:8080/"
        },
        "outputId": "9d8fd639-f894-463c-f036-d5bc5802e1e2"
      },
      "source": [
        "# Operadores de Comparações - Parte 2\n",
        "And = 'and'\n",
        "Ou = 'or'\n",
        "Negação = 'not'\n",
        "Dentro = 'in'\n",
        "\n",
        "print('8 é maior que 7 e 7 maior que 8:', 8 > 7 and 7 > 8 )\n",
        "print('8 é maior que 7 e 7 menor que 8:', 8 > 7 and 7 < 8 )\n",
        "print('8 é maior que 7 ou 7 menor que 8:', 8 == 7 or 7 == 8 )\n",
        "print('8 é maior que 7 ou 7 menor que 8:', 8 > 7 or 7 > 8 )\n",
        "print('8 não está nessa lista:', 8 not in [8, 9, 10] )\n",
        "print('8 não está nessa lista:', 7 not in [8, 9, 10] )"
      ],
      "execution_count": null,
      "outputs": [
        {
          "output_type": "stream",
          "name": "stdout",
          "text": [
            "8 é maior que 7 e 7 maior que 8: False\n",
            "8 é maior que 7 e 7 menor que 8: True\n",
            "8 é maior que 7 ou 7 menor que 8: False\n",
            "8 é maior que 7 ou 7 menor que 8: True\n",
            "8 não está nessa lista: False\n",
            "8 não está nessa lista: True\n"
          ]
        }
      ]
    },
    {
      "cell_type": "code",
      "metadata": {
        "id": "32fC4DHgXjzP",
        "colab": {
          "base_uri": "https://localhost:8080/"
        },
        "outputId": "8e44bcad-f05f-48c0-e74e-e8ef4345b3e0"
      },
      "source": [
        "# Manipulando dados dentro das Lista\n",
        "Lista_Vazia = []\n",
        "print('Lista antes:', Lista_Vazia )\n",
        "\n",
        "# Inserindo valores\n",
        "Lista_Vazia.append(1)\n",
        "Lista_Vazia.append(2)\n",
        "Lista_Vazia.append(3)\n",
        "print('Lista Depois:', Lista_Vazia )\n",
        "\n",
        "# Tamanho da lista\n",
        "print('Lista contém:', len(Lista_Vazia), 'elementos' )\n",
        "\n",
        "# Tamanho da lista\n",
        "print('Acessando o 1º Elemento:', Lista_Vazia[0] )\n",
        "print('Acessando o 2º Elemento:', Lista_Vazia[1] )\n",
        "print('Acessando o último Elemento:', Lista_Vazia[-1] )\n",
        "print('Acessando um periodo:', Lista_Vazia[0:2] )\n",
        "\n",
        "# Excluindo valor na lista\n",
        "del Lista_Vazia[1]\n",
        "print('Depois da exclusão:', Lista_Vazia )\n",
        "\n",
        "# Listando a lista\n",
        "print('Depois da Limpeza:', Lista_Vazia.clear() )"
      ],
      "execution_count": null,
      "outputs": [
        {
          "output_type": "stream",
          "name": "stdout",
          "text": [
            "Lista antes: []\n",
            "Lista Depois: [1, 2, 3]\n",
            "Lista contém: 3 elementos\n",
            "Acessando o 1º Elemento: 1\n",
            "Acessando o 2º Elemento: 2\n",
            "Acessando o último Elemento: 3\n",
            "Acessando um periodo: [1, 2]\n",
            "Depois da exclusão: [1, 3]\n",
            "Depois da Limpeza: None\n"
          ]
        }
      ]
    },
    {
      "cell_type": "code",
      "metadata": {
        "colab": {
          "base_uri": "https://localhost:8080/"
        },
        "id": "im96Vnnv1gU8",
        "outputId": "22f2e25f-03ca-442b-a0b8-f6ca64da5d7e"
      },
      "source": [
        "# Utilizando funções externas\n",
        "\n",
        "# Importando a função Datetime da Biblioteca Datetime\n",
        "from datetime import datetime\n",
        "# Atribuindo a Data\n",
        "Data = '18/09/19'\n",
        "Conversao = datetime.strptime(Data, '%d/%m/%y')\n",
        "\n",
        "print('A data é formato {}'. format(type( Data )) )\n",
        "print('A data é formato {}'. format(type( Conversao )) )\n",
        "print('Esse argumento é: {}' .format(Data == Conversao) )"
      ],
      "execution_count": null,
      "outputs": [
        {
          "output_type": "stream",
          "name": "stdout",
          "text": [
            "A data é formato <class 'str'>\n",
            "A data é formato <class 'datetime.datetime'>\n",
            "Esse argumento é: False\n"
          ]
        }
      ]
    },
    {
      "cell_type": "code",
      "metadata": {
        "colab": {
          "base_uri": "https://localhost:8080/"
        },
        "id": "5gKh6aov6czi",
        "outputId": "f96e1c0b-6a63-43fd-e0cb-976321759fdb"
      },
      "source": [
        "# Metodo len\n",
        "# Calcula o tamanho de um objeto\n",
        "\n",
        "Exemplo_01 = [1, 2, 3, 4, 5]\n",
        "Exemplo_02 = {'Nome':'x', 'Sobrenome':'y', 'Idade':'z' }\n",
        "\n",
        "print( len(Exemplo_01) )\n",
        "print( len(Exemplo_02) )"
      ],
      "execution_count": null,
      "outputs": [
        {
          "output_type": "stream",
          "name": "stdout",
          "text": [
            "5\n",
            "3\n"
          ]
        }
      ]
    },
    {
      "cell_type": "code",
      "metadata": {
        "colab": {
          "base_uri": "https://localhost:8080/"
        },
        "id": "fMbq1VYTMi9D",
        "outputId": "f20bfd23-9eaa-407a-9f3b-af4c3257f317"
      },
      "source": [
        "# 1º Exercício\n",
        "# Calculando o IMC\n",
        "\n",
        "# Metodo round, arrendondar valores\n",
        "# Formula do IMC ( Peso / ( Altura * Altura ) )\n",
        "IMC = 80 / ( 1.82 * 1.82 )\n",
        "print( 'Meu IMC é: ', round(IMC, 1) )"
      ],
      "execution_count": null,
      "outputs": [
        {
          "output_type": "stream",
          "name": "stdout",
          "text": [
            "Meu IMC é:  24.2\n"
          ]
        }
      ]
    },
    {
      "cell_type": "code",
      "metadata": {
        "id": "o-rLhZooNRXp",
        "colab": {
          "base_uri": "https://localhost:8080/"
        },
        "outputId": "a6c99aa2-4045-48bd-e1ce-e4c2e0b39df0"
      },
      "source": [
        "# 2º Exercício\n",
        "# Calculando de Juros Simples\n",
        "\n",
        "Taxa_Juros = 0.05\n",
        "Investimento = 2000\n",
        "\n",
        "Ganhar =  Investimento + ( Investimento * Taxa_Juros )\n",
        "print('Acumulei ao todo: {}' .format(Ganhar) )\n",
        "print('Ganhei de juros: {}' .format(Ganhar - Investimento) )"
      ],
      "execution_count": null,
      "outputs": [
        {
          "output_type": "stream",
          "name": "stdout",
          "text": [
            "Acumulei ao todo: 2100.0\n",
            "Ganhei de juros: 100.0\n"
          ]
        }
      ]
    },
    {
      "cell_type": "code",
      "metadata": {
        "colab": {
          "base_uri": "https://localhost:8080/"
        },
        "id": "8H6IPLZx1igF",
        "outputId": "37b9241f-bdc6-48ae-87a7-bb06359f7123"
      },
      "source": [
        "# 3º Exercício\n",
        "# Sistema de Somas\n",
        "\n",
        "Valor_01 = int( input('Primeiro valor: ') )\n",
        "Valor_02 = int( input('Primeiro valor: ') )\n",
        "Soma = Valor_01 + Valor_02\n",
        "\n",
        "print('A soma é: {}' .format(Soma) )"
      ],
      "execution_count": null,
      "outputs": [
        {
          "output_type": "stream",
          "name": "stdout",
          "text": [
            "Primeiro valor: 10\n",
            "Primeiro valor: 20\n",
            "A soma é: 30\n"
          ]
        }
      ]
    },
    {
      "cell_type": "code",
      "metadata": {
        "colab": {
          "base_uri": "https://localhost:8080/"
        },
        "id": "wMUkKWbg1k_w",
        "outputId": "a4b49ab8-32c4-4dfb-caba-133e38458c5d"
      },
      "source": [
        "# 4º Exercício\n",
        "# Criando uma Data\n",
        "\n",
        "# Inputar os valores\n",
        "Dia = int( input('Qual o dia: '))\n",
        "Mes = int( input('Qual o mês: '))\n",
        "Ano = int( input('Qual o ano: '))\n",
        "\n",
        "# Consolidando as data\n",
        "Data = str(Dia) + '/' + str(Mes) + '/' + str(Ano)\n",
        "Converter = datetime.strptime(Data, '%d/%m/%y')\n",
        "\n",
        "print( 'Data convertida{}' .format(Converter) )"
      ],
      "execution_count": null,
      "outputs": [
        {
          "output_type": "stream",
          "name": "stdout",
          "text": [
            "Qual o dia: 10\n",
            "Qual o mês: 02\n",
            "Qual o ano: 19\n",
            "10/2/19\n"
          ]
        }
      ]
    },
    {
      "cell_type": "code",
      "metadata": {
        "colab": {
          "base_uri": "https://localhost:8080/"
        },
        "id": "dy9rxR5b5jjN",
        "outputId": "f9eacac5-9d11-4ac8-9584-77ed997a61fd"
      },
      "source": [
        "# 5º Exercício\n",
        "# Calculando o metro quadrado\n",
        "\n",
        "Altura = int( input('Qual a altura: '))\n",
        "Largura = int( input('Qual a largura: '))\n",
        "Quadrado = Altura * Largura\n",
        "\n",
        "print('São: {} metros quadrados' .format(Quadrado) )"
      ],
      "execution_count": null,
      "outputs": [
        {
          "output_type": "stream",
          "name": "stdout",
          "text": [
            "Qual a altura: 10\n",
            "Qual a largura: 10\n",
            "São: 100 metros quadrados\n"
          ]
        }
      ]
    },
    {
      "cell_type": "code",
      "metadata": {
        "colab": {
          "base_uri": "https://localhost:8080/"
        },
        "id": "KOgX64DiCFZt",
        "outputId": "470a7ec3-722b-4945-d512-e5dcc25bcc05"
      },
      "source": [
        "# 6º Exercício\n",
        "# verifique se o usuário é maior de idade\n",
        "\n",
        "Idade = int( input('Qual sua idade:') )\n",
        "Verificacao = Idade >= 18\n",
        "\n",
        "print('Verificação: {}' .format(Verificacao))"
      ],
      "execution_count": null,
      "outputs": [
        {
          "output_type": "stream",
          "name": "stdout",
          "text": [
            "Qual sua idade:20\n",
            "Verificação: True\n"
          ]
        }
      ]
    },
    {
      "cell_type": "code",
      "metadata": {
        "colab": {
          "base_uri": "https://localhost:8080/"
        },
        "id": "VQjrNk27C6_4",
        "outputId": "afb22840-7191-4344-98c5-301090917221"
      },
      "source": [
        "# 7º Exercício\n",
        "# Hipotenusa de um triângulo retângulo\n",
        "\n",
        "# Formula = a² + b² = c²\n",
        "\n",
        "Cateto_Oposto = float(input('Valor do cateto oposto: '))\n",
        "Cateto_Adjacente = float(input('Valor do cateto adjacente: '))\n",
        "\n",
        "Hipotenusa = (Cateto_Adjacente ** 2 + Cateto_Oposto ** 2) ** (1/2)\n",
        "print('O valor da hipotenusa é: {}'.format(Hipotenusa) )"
      ],
      "execution_count": null,
      "outputs": [
        {
          "output_type": "stream",
          "name": "stdout",
          "text": [
            "Valor do cateto oposto: 10.78\n",
            "Valor do cateto adjacente: 8.90\n",
            "\n",
            "\n",
            "O valor da hipotenusa é: 13.9792131395154\n"
          ]
        }
      ]
    },
    {
      "cell_type": "code",
      "metadata": {
        "colab": {
          "base_uri": "https://localhost:8080/"
        },
        "id": "HttdM11XD5ie",
        "outputId": "b9fd8007-ba90-4a98-c25c-5173af0fe045"
      },
      "source": [
        "# 8º Exercício\n",
        "# Sistema de RH\n",
        "\n",
        "# Salario inputado pelo usuário\n",
        "Salario = float( input('Qual seu sálario: '))\n",
        "\n",
        "# Variaveis de desconto\n",
        "INSS = 0.11\n",
        "Vale_Refeicao = 0.02\n",
        "Vale_Transporte = 0.08\n",
        "IR = 0.08\n",
        "\n",
        "# Organizando os dados\n",
        "Dicionario = { 'INSS': Salario * INSS, \n",
        "               'Vale Refeição' : Salario * Vale_Refeicao, \n",
        "               'Vale Transporte' : Salario * Vale_Transporte, \n",
        "               'Imposto de Renda' : Salario * IR }\n",
        "\n",
        "# calculando o Debito\n",
        "Debito = Dicionario['INSS'] + Dicionario['Vale Refeição'] + Dicionario['Vale Transporte'] + Dicionario['Imposto de Renda']\n",
        "# calculando o valor liquido\n",
        "Liquido = Salario - Debito\n",
        "\n",
        "# Mostrando as informações\n",
        "print('\\n')\n",
        "print('Informações Gerais')\n",
        "print('*' * 35 )\n",
        "print( 'Informações sobre os descontos:', Dicionario )\n",
        "print( 'Desconto Geral:', Debito )\n",
        "print('*' * 35 )\n",
        "print('Sálario Liquido será: {}'.format(Liquido) )"
      ],
      "execution_count": null,
      "outputs": [
        {
          "output_type": "stream",
          "name": "stdout",
          "text": [
            "Qual seu sálario: 8000\n",
            "\n",
            "\n",
            "Informações Gerais\n",
            "***********************************\n",
            "Informações sobre os descontos: {'INSS': 880.0, 'Vale Refeição': 160.0, 'Vale Transporte': 640.0, 'Imposto de Renda': 640.0}\n",
            "Desconto Geral: 2320.0\n",
            "***********************************\n",
            "Sálario Liquido será: 5680.0\n"
          ]
        }
      ]
    },
    {
      "cell_type": "code",
      "metadata": {
        "colab": {
          "base_uri": "https://localhost:8080/"
        },
        "id": "x6qB9CHWGIu0",
        "outputId": "10b7786b-2a60-48ba-9cce-711a15912035"
      },
      "source": [
        "# Plus <<< --- >>> <<< --- >>> <<< --- >>> <<< --- >>>\n",
        "\n",
        "# Criar um novo Dicionário\n",
        "Dicionario_02 = Dicionario\n",
        "# Criar novas posições no Dicionário\n",
        "Dicionario_02['Valor Descontos Gerais'] = Debito\n",
        "Dicionario_02['Valor Liquido'] = Liquido\n",
        "Dicionario_02['Salário'] = Salario\n",
        "\n",
        "print( Dicionario_02 )"
      ],
      "execution_count": null,
      "outputs": [
        {
          "output_type": "stream",
          "name": "stdout",
          "text": [
            "{'INSS': 880.0, 'Vale Refeição': 160.0, 'Vale Transporte': 640.0, 'Imposto de Renda': 640.0, 'Valor Descontos Gerais': 2320.0, 'Valor Liquido': 5680.0, 'Salário': 8000.0}\n"
          ]
        }
      ]
    },
    {
      "cell_type": "code",
      "metadata": {
        "colab": {
          "base_uri": "https://localhost:8080/",
          "height": 80
        },
        "id": "eIqtwCHWJoVd",
        "outputId": "fcf97962-4c00-4753-bde3-6eddb449feb4"
      },
      "source": [
        "# Função para criar um DataFrame\n",
        "from pandas import DataFrame\n",
        "\n",
        "Base_Dados = DataFrame( Dicionario_02, index=[0] )\n",
        "Base_Dados"
      ],
      "execution_count": null,
      "outputs": [
        {
          "output_type": "execute_result",
          "data": {
            "text/html": [
              "<div>\n",
              "<style scoped>\n",
              "    .dataframe tbody tr th:only-of-type {\n",
              "        vertical-align: middle;\n",
              "    }\n",
              "\n",
              "    .dataframe tbody tr th {\n",
              "        vertical-align: top;\n",
              "    }\n",
              "\n",
              "    .dataframe thead th {\n",
              "        text-align: right;\n",
              "    }\n",
              "</style>\n",
              "<table border=\"1\" class=\"dataframe\">\n",
              "  <thead>\n",
              "    <tr style=\"text-align: right;\">\n",
              "      <th></th>\n",
              "      <th>INSS</th>\n",
              "      <th>Vale Refeição</th>\n",
              "      <th>Vale Transporte</th>\n",
              "      <th>Imposto de Renda</th>\n",
              "      <th>Valor Descontos Gerais</th>\n",
              "      <th>Valor Liquido</th>\n",
              "      <th>Salário</th>\n",
              "    </tr>\n",
              "  </thead>\n",
              "  <tbody>\n",
              "    <tr>\n",
              "      <th>0</th>\n",
              "      <td>880.0</td>\n",
              "      <td>160.0</td>\n",
              "      <td>640.0</td>\n",
              "      <td>640.0</td>\n",
              "      <td>2320.0</td>\n",
              "      <td>5680.0</td>\n",
              "      <td>8000.0</td>\n",
              "    </tr>\n",
              "  </tbody>\n",
              "</table>\n",
              "</div>"
            ],
            "text/plain": [
              "    INSS  Vale Refeição  ...  Valor Liquido  Salário\n",
              "0  880.0          160.0  ...         5680.0   8000.0\n",
              "\n",
              "[1 rows x 7 columns]"
            ]
          },
          "metadata": {},
          "execution_count": 122
        }
      ]
    },
    {
      "cell_type": "code",
      "metadata": {
        "id": "XqJyQWtbLccU"
      },
      "source": [
        ""
      ],
      "execution_count": null,
      "outputs": []
    }
  ]
}