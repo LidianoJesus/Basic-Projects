{
  "nbformat": 4,
  "nbformat_minor": 0,
  "metadata": {
    "colab": {
      "name": "Lista de exercicios2.ipynb",
      "provenance": [],
      "collapsed_sections": [],
      "authorship_tag": "ABX9TyN4sY3IgOaLPWVeJkzEdIbm",
      "include_colab_link": true
    },
    "kernelspec": {
      "name": "python3",
      "display_name": "Python 3"
    },
    "language_info": {
      "name": "python"
    }
  },
  "cells": [
    {
      "cell_type": "markdown",
      "metadata": {
        "id": "view-in-github",
        "colab_type": "text"
      },
      "source": [
        "<a href=\"https://colab.research.google.com/github/LidianoJesus/Basic-Projects/blob/master/Lista_de_exercicios2.ipynb\" target=\"_parent\"><img src=\"https://colab.research.google.com/assets/colab-badge.svg\" alt=\"Open In Colab\"/></a>"
      ]
    },
    {
      "cell_type": "markdown",
      "metadata": {
        "id": "mEMqA6bWt6wl"
      },
      "source": [
        "01 Faça um prgrama usand o método 'input' e verifique o usuario tem + de 18 anos usando a condição 'if'."
      ]
    },
    {
      "cell_type": "code",
      "metadata": {
        "colab": {
          "base_uri": "https://localhost:8080/"
        },
        "id": "dSMyLwuJtT5O",
        "outputId": "6d085d4e-0dad-491f-8e93-c277ba422894"
      },
      "source": [
        "idade = int(input('Digite sua idade: '))\n",
        "nome = input('Digite seu nome: ')\n",
        "if idade>=18:\n",
        "    print(f'Olá, {nome}!')\n",
        "    print(f'Você é maior de idade: ')\n",
        "else:\n",
        "    print(f'Você é menor de idade.')"
      ],
      "execution_count": 16,
      "outputs": [
        {
          "output_type": "stream",
          "name": "stdout",
          "text": [
            "Digite sua idade: 33\n",
            "Digite seu nome: m\n",
            "Olá, m!\n",
            "Você é maior de idade: \n"
          ]
        }
      ]
    },
    {
      "cell_type": "markdown",
      "metadata": {
        "id": "JTqfrVnlxGf6"
      },
      "source": [
        "02 Imposto no Salário\n",
        "Faça um programa usando o método 'input' e calcul o imposto de renda de acordo com o salário da pessoa. Use o método 'IF', 'ELIF' e 'ELSE'."
      ]
    },
    {
      "cell_type": "code",
      "metadata": {
        "colab": {
          "base_uri": "https://localhost:8080/"
        },
        "id": "AI5t3vDQxe1F",
        "outputId": "e46a0e95-8ff1-4ae3-e037-f225626b0e06"
      },
      "source": [
        "salario = float(input('Digite seu salário: '))\n",
        "nome = input('Digite seu nome: ')\n",
        "if salario<=1903.98:\n",
        "    print(f'Olá, {nome}!')\n",
        "    print(f'Seu salário líquido é: {salario}')\n",
        "elif salario <= 2826.65:\n",
        "    print(f'Olá, {nome}!')\n",
        "    print(f'Seu salário líquido é: {salario - (salario * 0.0750)}')\n",
        "elif salario <= 3751.05:\n",
        "    print(f'Olá, {nome}!')\n",
        "    print(f'Seu salário líquido é: {salario - (salario * 0.15)}')\n",
        "else:\n",
        "    print(f'Olá, {nome}!')\n",
        "    print(f'Seu salário líquido é: {salario - (salario * 0.225)}') "
      ],
      "execution_count": 15,
      "outputs": [
        {
          "output_type": "stream",
          "name": "stdout",
          "text": [
            "Digite seu salário: 2800\n",
            "Digite seu nome: d\n",
            "Olá, d!\n",
            "Seu salário líquido é: 2590.0\n"
          ]
        }
      ]
    },
    {
      "cell_type": "markdown",
      "metadata": {
        "id": "JapgR-5m3b28"
      },
      "source": [
        "03 Dois números.\n",
        "Faça um programa usando m metodo 'input' qu receberão dois valores e verifique quais deles é o maior. Use a condição 'IF' e 'ELSE'."
      ]
    },
    {
      "cell_type": "code",
      "metadata": {
        "colab": {
          "base_uri": "https://localhost:8080/"
        },
        "id": "gDfKYaql334O",
        "outputId": "77194668-8816-4684-a627-74cbba2bf6ac"
      },
      "source": [
        "N1 = float(input('Digite o primeiro numero: '))\n",
        "N2 = float(input('Digite o segundo numero: '))\n",
        "if N1>N2:\n",
        "      print(f'Número 1 é maior que o numero 2')\n",
        "else:\n",
        "      print(f'Numero 2 é maior que o numero 1')\n",
        "\n"
      ],
      "execution_count": 25,
      "outputs": [
        {
          "output_type": "stream",
          "name": "stdout",
          "text": [
            "Digite o primeiro numero: 212\n",
            "Digite o segundo numero: 1000\n",
            "Numero 2 é maior quer numero 1\n"
          ]
        }
      ]
    },
    {
      "cell_type": "markdown",
      "metadata": {
        "id": "eYEAy50L7Raj"
      },
      "source": [
        "04 Valor Positivo ou Negativo.\n",
        "Faça um programa usando o método 'input' e verifique se o numero é positivo ou negativo. Use a condição 'IF' e 'ELSE'.\n"
      ]
    },
    {
      "cell_type": "code",
      "metadata": {
        "colab": {
          "base_uri": "https://localhost:8080/"
        },
        "id": "2uP_yk_87vwm",
        "outputId": "aef3b1c6-5a74-4869-e805-a22cb605b6c7"
      },
      "source": [
        "N1 = float(input('Digite o primeiro numero: '))\n",
        "if N1%2:\n",
        "  print(f'O numero é negativo')\n",
        "else:\n",
        "  print(f'O numero é positivo')"
      ],
      "execution_count": 31,
      "outputs": [
        {
          "output_type": "stream",
          "name": "stdout",
          "text": [
            "Digite o primeiro numero: 101\n",
            "O numero é negativo\n"
          ]
        }
      ]
    },
    {
      "cell_type": "markdown",
      "metadata": {
        "id": "VNVUVNRX_Ruv"
      },
      "source": [
        "05 Prova de matemnatica.\n",
        "Faça um programa usando o metdo 'input' que receberão 3 valores e calcule a média do valor e use a condição 'IF' , 'ELI' e 'ELSE' para classificar aluno."
      ]
    },
    {
      "cell_type": "code",
      "metadata": {
        "colab": {
          "base_uri": "https://localhost:8080/"
        },
        "id": "2O0c49AL_wsw",
        "outputId": "23fa25a3-75cc-4390-994c-bb3c2db2551c"
      },
      "source": [
        "N1 = float(input('Digite a primeiro nota: '))\n",
        "N2 = float(input('Digite a segunda nota: '))\n",
        "N3 = float(input('Digite a terceira nota: '))\n",
        "N4 = (N1+N2+N3)/3\n",
        "if N4 <7:\n",
        "  print(f'Reprovou')\n",
        "elif (N4 > 7) and (N4 < 9):\n",
        "  print(f'Aprovado')\n",
        "else:\n",
        "  print(f'Aprovado Diferencial')"
      ],
      "execution_count": 42,
      "outputs": [
        {
          "output_type": "stream",
          "name": "stdout",
          "text": [
            "Digite a primeiro nota: 10\n",
            "Digite a segunda nota: 10\n",
            "Digite a terceira nota: 10\n",
            "Aprovado Diferencial\n"
          ]
        }
      ]
    },
    {
      "cell_type": "markdown",
      "metadata": {
        "id": "fEOJe27rCtsM"
      },
      "source": [
        "06 Loop Simples.\n",
        "Faça um programa que sando o método 'FOR' que mostra do 0 a 9. Dica use o 'range'."
      ]
    },
    {
      "cell_type": "code",
      "metadata": {
        "colab": {
          "base_uri": "https://localhost:8080/"
        },
        "id": "Qrj9jLznC-g6",
        "outputId": "464d53ad-6ba3-4d9f-ee14-e1b22176165d"
      },
      "source": [
        "for loop in range (0, 10):\n",
        "  print(loop)"
      ],
      "execution_count": 43,
      "outputs": [
        {
          "output_type": "stream",
          "name": "stdout",
          "text": [
            "0\n",
            "1\n",
            "2\n",
            "3\n",
            "4\n",
            "5\n",
            "6\n",
            "7\n",
            "8\n",
            "9\n"
          ]
        }
      ]
    },
    {
      "cell_type": "code",
      "metadata": {
        "id": "l3AztxExDmQM"
      },
      "source": [
        "# 07 Faça um programa que usando o metodo 'FOR' para percorrer uma lista e leve ao quadrado o valor da lista."
      ],
      "execution_count": 48,
      "outputs": []
    },
    {
      "cell_type": "code",
      "metadata": {
        "colab": {
          "base_uri": "https://localhost:8080/"
        },
        "id": "xS36zYq_D8LP",
        "outputId": "37b01e34-29a7-4647-b04b-7980dd4fcca6"
      },
      "source": [
        "Lista = [2,4,6,8,10]\n",
        "\n",
        "for loop in Lista:\n",
        "  print(loop ** 2)"
      ],
      "execution_count": 50,
      "outputs": [
        {
          "output_type": "stream",
          "name": "stdout",
          "text": [
            "4\n",
            "16\n",
            "36\n",
            "64\n",
            "100\n"
          ]
        }
      ]
    },
    {
      "cell_type": "markdown",
      "metadata": {
        "id": "KDLThlR0FpnD"
      },
      "source": [
        "08 Tabuada.\n",
        "Faça um programa usando o método 'input' que 1 valor e faça a tabuada desse valor usando 'FOR'."
      ]
    },
    {
      "cell_type": "code",
      "metadata": {
        "colab": {
          "base_uri": "https://localhost:8080/"
        },
        "id": "I_UpTTuEF6xj",
        "outputId": "309804d5-5246-45b1-f337-95579ba51364"
      },
      "source": [
        "Numero = int(input('Inseria o valor para a Tabuada: '))\n",
        "\n",
        "print(f'*** Tabuada do {Numero} ***')\n",
        "for Loop in range(1, 11):\n",
        "  print(f'{Loop} x {Numero} = { Loop * Numero } ')"
      ],
      "execution_count": 51,
      "outputs": [
        {
          "output_type": "stream",
          "name": "stdout",
          "text": [
            "Inseria o valor para a Tabuada: 2\n",
            "*** Tabuada do 2 ***\n",
            "1 x 2 = 2 \n",
            "2 x 2 = 4 \n",
            "3 x 2 = 6 \n",
            "4 x 2 = 8 \n",
            "5 x 2 = 10 \n",
            "6 x 2 = 12 \n",
            "7 x 2 = 14 \n",
            "8 x 2 = 16 \n",
            "9 x 2 = 18 \n",
            "10 x 2 = 20 \n"
          ]
        }
      ]
    },
    {
      "cell_type": "markdown",
      "metadata": {
        "id": "hMvhmywjHqDn"
      },
      "source": [
        "09 Loop´simples com 'enumerate'.\n",
        "Faça um programa que usando o método 'FOR' para percorrer uma lista com o uso do 'enumerate'.\n",
        "Lista = [2,4,6,8,10]"
      ]
    },
    {
      "cell_type": "code",
      "metadata": {
        "colab": {
          "base_uri": "https://localhost:8080/"
        },
        "id": "JEOfAcULHl6Z",
        "outputId": "28455385-c5b9-4d74-e33a-f99746d7ff35"
      },
      "source": [
        "Lista = [2, 4, 6, 8, 10]\n",
        "\n",
        "for Contador, Loop in enumerate(Lista):\n",
        "  print( Contador, Loop )"
      ],
      "execution_count": 52,
      "outputs": [
        {
          "output_type": "stream",
          "name": "stdout",
          "text": [
            "0 2\n",
            "1 4\n",
            "2 6\n",
            "3 8\n",
            "4 10\n"
          ]
        }
      ]
    },
    {
      "cell_type": "markdown",
      "metadata": {
        "id": "tkz8jJbYIObj"
      },
      "source": [
        "10 Loop com condição.\n",
        "Faça um programa que usando o método 'FOR' para percorrer uma lista e faça uma condição para verificar se a divisão\n",
        "do valor por 2 existe resto ou não."
      ]
    },
    {
      "cell_type": "code",
      "metadata": {
        "colab": {
          "base_uri": "https://localhost:8080/"
        },
        "id": "Hy2gV9PEIKeY",
        "outputId": "c4692437-03fd-481c-f93a-64a2f0bb2682"
      },
      "source": [
        "Lista = [ 1, 2, 3, 4, 5, 6, 7, 8, 9, 10 ]\n",
        "\n",
        "for Loop in Lista:\n",
        "\n",
        "  if ( Loop % 2 ) == 0:\n",
        "    print(f' Dividi {Loop} por 2 e não houve Resto')\n",
        "\n",
        "  else:\n",
        "    print(f' Dividi {Loop} por 2 e o resto foi { Loop % 2}')"
      ],
      "execution_count": 53,
      "outputs": [
        {
          "output_type": "stream",
          "name": "stdout",
          "text": [
            " Dividi 1 por 2 e o resto foi 1\n",
            " Dividi 2 por 2 e não houve Resto\n",
            " Dividi 3 por 2 e o resto foi 1\n",
            " Dividi 4 por 2 e não houve Resto\n",
            " Dividi 5 por 2 e o resto foi 1\n",
            " Dividi 6 por 2 e não houve Resto\n",
            " Dividi 7 por 2 e o resto foi 1\n",
            " Dividi 8 por 2 e não houve Resto\n",
            " Dividi 9 por 2 e o resto foi 1\n",
            " Dividi 10 por 2 e não houve Resto\n"
          ]
        }
      ]
    },
    {
      "cell_type": "markdown",
      "metadata": {
        "id": "vj3DXpYTIn3K"
      },
      "source": [
        "11 While simples.\n",
        "Faça um programa que usando o método 'Whilw' para rodar 6 vezes e mostra na tela."
      ]
    },
    {
      "cell_type": "code",
      "metadata": {
        "colab": {
          "base_uri": "https://localhost:8080/"
        },
        "id": "Eg4omoI_Ilyo",
        "outputId": "20a624f5-b793-4eb6-ee07-587c34b45c58"
      },
      "source": [
        "x = 1\n",
        "while x < 6:\n",
        "  print(x)\n",
        "  x += 1"
      ],
      "execution_count": 54,
      "outputs": [
        {
          "output_type": "stream",
          "name": "stdout",
          "text": [
            "1\n",
            "2\n",
            "3\n",
            "4\n",
            "5\n"
          ]
        }
      ]
    },
    {
      "cell_type": "markdown",
      "metadata": {
        "id": "YpyQ7uLSI4Gg"
      },
      "source": [
        "12 Whilke com finalizador.\n",
        "Faça um programa que usando o método 'while' para rodar e vezes e inclua uma condição que ao finalizar elel mostre uma mensagem."
      ]
    },
    {
      "cell_type": "code",
      "metadata": {
        "colab": {
          "base_uri": "https://localhost:8080/"
        },
        "id": "rE4ZpvvUI2hx",
        "outputId": "90f4eb45-8912-42ae-ebef-03422f3b0de7"
      },
      "source": [
        "Contador = 1\n",
        "\n",
        "while Contador < 6:\n",
        "  print( Contador )\n",
        "  Contador += 1\n",
        "\n",
        "else:\n",
        "  print('Finalizado!')"
      ],
      "execution_count": 55,
      "outputs": [
        {
          "output_type": "stream",
          "name": "stdout",
          "text": [
            "1\n",
            "2\n",
            "3\n",
            "4\n",
            "5\n",
            "Finalizado!\n"
          ]
        }
      ]
    },
    {
      "cell_type": "markdown",
      "metadata": {
        "id": "3eTUe2loJNoU"
      },
      "source": [
        "13 Função soma.\n",
        "Faça um programa usando uma função 'def' que receberá 4 valores e some elas."
      ]
    },
    {
      "cell_type": "code",
      "metadata": {
        "colab": {
          "base_uri": "https://localhost:8080/"
        },
        "id": "OgQEwenDJMFw",
        "outputId": "c6280178-53fb-4d98-9fef-bc93d4bd4436"
      },
      "source": [
        "Numero_01 = int(input('Numero_1: '))\n",
        "Numero_02 = int(input('Numero_2: '))\n",
        "Numero_03 = int(input('Numero_3: '))\n",
        "Numero_04 = int(input('Numero_4: '))\n",
        "\n",
        "def Soma(x, y, z, w):\n",
        "  Somando = x + y + z + w\n",
        "  return print( Somando )\n",
        "\n",
        "Soma(Numero_01, Numero_02, Numero_03, Numero_04 )"
      ],
      "execution_count": 56,
      "outputs": [
        {
          "output_type": "stream",
          "name": "stdout",
          "text": [
            "Numero_1: 4\n",
            "Numero_2: 3\n",
            "Numero_3: 2\n",
            "Numero_4: 7\n",
            "16\n"
          ]
        }
      ]
    },
    {
      "cell_type": "markdown",
      "metadata": {
        "id": "yA9LwK-8Jhjh"
      },
      "source": [
        "14 Função ajustando texto.\n",
        "Faça um programa usando uma função 'def' que receberá uma frase e converta ela para minusculo."
      ]
    },
    {
      "cell_type": "code",
      "metadata": {
        "colab": {
          "base_uri": "https://localhost:8080/"
        },
        "id": "A94-2OxwJarw",
        "outputId": "37273269-b0cc-4565-a833-3c0279cd29e9"
      },
      "source": [
        "Texto = input('Digite Algo: ')\n",
        "\n",
        "def Ajustar_Texto(x):\n",
        "  x = x.lower()\n",
        "  return print( x )\n",
        "\n",
        "Ajustar_Texto(Texto)"
      ],
      "execution_count": 57,
      "outputs": [
        {
          "output_type": "stream",
          "name": "stdout",
          "text": [
            "Digite Algo: sdsa\n",
            "sdsa\n"
          ]
        }
      ]
    },
    {
      "cell_type": "markdown",
      "metadata": {
        "id": "QVDYavfUJ4Ll"
      },
      "source": [
        "Função cadastro.\n",
        "Faa um programa usando uma fnção 'def' que recebverá 3 variaveis de entradas (input) organize as infrmações em m dicionario essas informações e mostre no final."
      ]
    },
    {
      "cell_type": "code",
      "metadata": {
        "colab": {
          "base_uri": "https://localhost:8080/"
        },
        "id": "mJH9ifC5J0j4",
        "outputId": "a5b38c21-4879-4c80-c63d-7d919e0915d9"
      },
      "source": [
        "Nome = str(input('Nome: '))\n",
        "Sobrenome = str(input('Sobrenome: '))\n",
        "Idade = int(input('Idade: '))\n",
        "\n",
        "def Cadastro(Nome, Sobrenome, Idade):\n",
        "\n",
        "  Dados = {\n",
        "      'Nome_Inserido' : Nome,\n",
        "      'Sobre' : Sobrenome,\n",
        "      'Idade' : Idade\n",
        "  }\n",
        "\n",
        "  return print( Dados)\n",
        "\n",
        "Cadastro(Nome, Sobrenome, Idade)"
      ],
      "execution_count": 58,
      "outputs": [
        {
          "output_type": "stream",
          "name": "stdout",
          "text": [
            "Nome: kij\n",
            "Sobrenome: ss\n",
            "Idade: 54\n",
            "{'Nome_Inserido': 'kij', 'Sobre': 'ss', 'Idade': 54}\n"
          ]
        }
      ]
    },
    {
      "cell_type": "code",
      "metadata": {
        "id": "uXUYwwY7KOxH"
      },
      "source": [
        ""
      ],
      "execution_count": null,
      "outputs": []
    }
  ]
}