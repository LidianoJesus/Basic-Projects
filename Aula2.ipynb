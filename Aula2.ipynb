{
  "nbformat": 4,
  "nbformat_minor": 0,
  "metadata": {
    "kernelspec": {
      "display_name": "Python 3",
      "language": "python",
      "name": "python3"
    },
    "language_info": {
      "codemirror_mode": {
        "name": "ipython",
        "version": 3
      },
      "file_extension": ".py",
      "mimetype": "text/x-python",
      "name": "python",
      "nbconvert_exporter": "python",
      "pygments_lexer": "ipython3",
      "version": "3.8.10"
    },
    "colab": {
      "name": "Aula2.ipynb",
      "provenance": [],
      "include_colab_link": true
    }
  },
  "cells": [
    {
      "cell_type": "markdown",
      "metadata": {
        "id": "view-in-github",
        "colab_type": "text"
      },
      "source": [
        "<a href=\"https://colab.research.google.com/github/LidianoJesus/Basic-Projects/blob/master/Aula2.ipynb\" target=\"_parent\"><img src=\"https://colab.research.google.com/assets/colab-badge.svg\" alt=\"Open In Colab\"/></a>"
      ]
    },
    {
      "cell_type": "markdown",
      "metadata": {
        "id": "9UCiJ-uZXROb"
      },
      "source": [
        "# **Python para Data Science (parte II)**\n",
        "## Bootcamp Imersão em Data Science\n",
        "> Data Vinking"
      ]
    },
    {
      "cell_type": "markdown",
      "metadata": {
        "id": "rFhz3CFYXROg"
      },
      "source": [
        "#### Plano da aula\n",
        "* Estruturas Condicionais\n",
        "* Estruturas de Repetição\n",
        "* Funções\n",
        "* Hands On!\n",
        "    * Criando DataFrames com Pandas e NumPy\n",
        "    * Microdados ENEM"
      ]
    },
    {
      "cell_type": "markdown",
      "metadata": {
        "id": "NuellfV6XROh"
      },
      "source": [
        "## Estruturas condicionais\n",
        "\n",
        "Utilizamos estruturas condicionais para controlar o fluxo do nosso código a partir da validação de condições simples ou múltiplas. Na prática da análise de dados iremos usar tais condições para `filtrar dados` com base em determinadas condições."
      ]
    },
    {
      "cell_type": "markdown",
      "metadata": {
        "id": "RJnRu_8UXROi"
      },
      "source": [
        "Sintaxe do `if`:\n",
        "\n",
        "<code>    \n",
        "if condition:\n",
        "    code\n",
        "</code>"
      ]
    },
    {
      "cell_type": "code",
      "metadata": {
        "id": "fJoqOOysXROi"
      },
      "source": [
        "salario = float(input('Digite seu salário: '))\n",
        "nome = input('Digite seu nome: ')\n",
        "if salario>=1000:\n",
        "    print(f'Olá, {nome}!')\n",
        "    print(f'Seu salário é: {round(salario)}')"
      ],
      "execution_count": null,
      "outputs": []
    },
    {
      "cell_type": "markdown",
      "metadata": {
        "id": "e01DoP0zXROj"
      },
      "source": [
        "Sintaxe:\n",
        "\n",
        "<code>    \n",
        "if condition:\n",
        "    code_1\n",
        "else:\n",
        "    code_2\n",
        "</code>"
      ]
    },
    {
      "cell_type": "code",
      "metadata": {
        "id": "xtmiI-n3XROk"
      },
      "source": [
        "salario = float(input('Digite seu salário: '))\n",
        "nome = input('Digite seu nome: ')\n",
        "if salario>=1000:\n",
        "    print(f'Olá, {nome}!')\n",
        "    print(f'Seu salário é: {round(salario, 2)}')\n",
        "else:\n",
        "    print(f'Seu salário é inferior a mil reais.')"
      ],
      "execution_count": null,
      "outputs": []
    },
    {
      "cell_type": "markdown",
      "metadata": {
        "id": "bHvmMOKeXROk"
      },
      "source": [
        "Sintaxe:\n",
        "\n",
        "<code>    \n",
        "if condition_1:\n",
        "    code_1\n",
        "elif condition_2:\n",
        "    code_2\n",
        "elif condition_3:\n",
        "    code_3\n",
        "else:\n",
        "    code_4\n",
        "</code>"
      ]
    },
    {
      "cell_type": "code",
      "metadata": {
        "id": "JWa7_LFVXROl"
      },
      "source": [
        "user_input = input('Digite uma letra entre A-C: ')\n",
        "if user_input == 'A':\n",
        "    print('Você digitou A!')\n",
        "elif user_input == 'B':\n",
        "    print('Você digitou B!')\n",
        "elif user_input == 'C':\n",
        "    print('Você digitou C!')\n",
        "else:\n",
        "    print('Você não digitou a letra correta !')"
      ],
      "execution_count": null,
      "outputs": []
    },
    {
      "cell_type": "markdown",
      "metadata": {
        "id": "s-YX4smWXROm"
      },
      "source": [
        "## Estruturas de repetição\n"
      ]
    },
    {
      "cell_type": "markdown",
      "metadata": {
        "id": "yTIYro3rXROn"
      },
      "source": [
        "Vamos utilizar estruturas de repetição para iterar (percorrer) objetos e realizar determinadas tarefas de forma automatizada. Na prática do cientista de dados, poderíamos utilizar repetição para percorrer um conjunto de colunas de um dataset e converter algumas colunas para um formato específico, dentre várias outras aplicações."
      ]
    },
    {
      "cell_type": "markdown",
      "metadata": {
        "id": "u8_sV6zFXROn"
      },
      "source": [
        "Sintaxe do laço for:\n",
        "\n",
        "<code>\n",
        "for value in iterable:\n",
        "    code\n",
        "</code>"
      ]
    },
    {
      "cell_type": "markdown",
      "metadata": {
        "id": "lA_vk94UXROn"
      },
      "source": [
        "Vamos percorrer uma lista e mostrar seus elementos na tela:"
      ]
    },
    {
      "cell_type": "code",
      "metadata": {
        "id": "lnIhO-KKXROo"
      },
      "source": [
        "lista = ['banana', 'café', 'python', 'java', 'programador']\n",
        "indice = 1  # contador\n",
        "for elemento in lista:\n",
        "    print(indice, elemento)\n",
        "    indice = indice+1  # incrementa o contador"
      ],
      "execution_count": null,
      "outputs": []
    },
    {
      "cell_type": "code",
      "metadata": {
        "id": "fT4fQWu6XROo"
      },
      "source": [
        "# outra forma de fazer:\n",
        "for indice, elemento in enumerate(lista, start = 1):\n",
        "    print(indice,elemento)"
      ],
      "execution_count": null,
      "outputs": []
    },
    {
      "cell_type": "markdown",
      "metadata": {
        "id": "sOGUta8bXROo"
      },
      "source": [
        "Vamos agora mostrar na tela apenas a palavras com mais de 5 letras:"
      ]
    },
    {
      "cell_type": "code",
      "metadata": {
        "id": "arSoQ0lzXROp"
      },
      "source": [
        "for elemento in lista:\n",
        "    if len(elemento)>5:\n",
        "        print(f'{elemento.upper()} possui mais de 5 letras.')\n",
        "    else:\n",
        "        print(f'{elemento.capitalize()} não possui mais de 5 letras.')"
      ],
      "execution_count": null,
      "outputs": []
    },
    {
      "cell_type": "markdown",
      "metadata": {
        "id": "aUq4jDokXROp"
      },
      "source": [
        "Vamos usar a condição while para iterar na lista:"
      ]
    },
    {
      "cell_type": "markdown",
      "metadata": {
        "id": "NKp-GfroXROp"
      },
      "source": [
        "Sintaxe do laço while:\n",
        "\n",
        "<code>\n",
        "while condition:\n",
        "    code\n",
        "</code>"
      ]
    },
    {
      "cell_type": "markdown",
      "metadata": {
        "id": "JuG5RgGrXROp"
      },
      "source": [
        "Neste caso, o Python irá executar o bloco de código `code` enquanto a condição for verdadeira."
      ]
    },
    {
      "cell_type": "code",
      "metadata": {
        "id": "eDAEu0ahXROq"
      },
      "source": [
        "indice = 0  # contador\n",
        "while indice<len(lista):  # condição\n",
        "    print(lista[indice])  # mostra na tela o objeto para a posição no laço\n",
        "    indice +=1  # incrementa o contador"
      ],
      "execution_count": null,
      "outputs": []
    },
    {
      "cell_type": "markdown",
      "metadata": {
        "id": "Jr1AB81WXROq"
      },
      "source": [
        "## Funções\n",
        "Vamos ver antes o que é um função no Python. Funções são úteis para:\n",
        "* Encapsular código;\n",
        "* Automatizar etapas;\n",
        "* Obter um código mais limpo e performático;\n",
        "* Escalar o código."
      ]
    },
    {
      "cell_type": "markdown",
      "metadata": {
        "id": "D7ea2faUXROq"
      },
      "source": [
        "Sintaxe funções sem parâmetros e sem retorno:\n",
        "    \n",
        "<code>\n",
        "def function_name():\n",
        "    code\n",
        "</code>"
      ]
    },
    {
      "cell_type": "markdown",
      "metadata": {
        "id": "7dJwbatXXROr"
      },
      "source": [
        "**Exemplo 1:**"
      ]
    },
    {
      "cell_type": "code",
      "metadata": {
        "id": "1uiSZE1LXROr"
      },
      "source": [
        "def saudar():\n",
        "    \"Função para saudar o usuário.\"\n",
        "    print('Olá ! Seja bem-vindo ao Data Vinking!')"
      ],
      "execution_count": 1,
      "outputs": []
    },
    {
      "cell_type": "code",
      "metadata": {
        "colab": {
          "base_uri": "https://localhost:8080/"
        },
        "id": "ksaIxMvoXROr",
        "outputId": "4622bf91-1945-4055-9422-27392fa5b272"
      },
      "source": [
        "# vamos chamar a função\n",
        "saudar()"
      ],
      "execution_count": 2,
      "outputs": [
        {
          "output_type": "stream",
          "name": "stdout",
          "text": [
            "Olá ! Seja bem-vindo ao Data Vinking!\n"
          ]
        }
      ]
    },
    {
      "cell_type": "markdown",
      "metadata": {
        "id": "P5WK0u1FXROr"
      },
      "source": [
        "Sintaxe função com parâmetros e sem retorno:\n",
        "    \n",
        "<code>\n",
        "def function_name(arg1, arg2, arg3):\n",
        "    code\n",
        "</code>"
      ]
    },
    {
      "cell_type": "markdown",
      "metadata": {
        "id": "cBM-j8wXXROr"
      },
      "source": [
        "**Exemplo 2:**"
      ]
    },
    {
      "cell_type": "code",
      "metadata": {
        "id": "EZ8xfY76XROr"
      },
      "source": [
        "# define uma função simples de soma\n",
        "def soma(numero_1, numero_2):\n",
        "    \"Recebe dois números e retorna a soma entre eles.\"\n",
        "    soma = numero_1+numero_2\n",
        "    print(f'{numero_1}+{numero_2} = {soma}')"
      ],
      "execution_count": 3,
      "outputs": []
    },
    {
      "cell_type": "code",
      "metadata": {
        "colab": {
          "base_uri": "https://localhost:8080/"
        },
        "id": "c62TNtKDXROs",
        "outputId": "244753ac-1f1b-4064-cde0-0b542c221b9e"
      },
      "source": [
        "soma(10, 10)"
      ],
      "execution_count": 4,
      "outputs": [
        {
          "output_type": "stream",
          "name": "stdout",
          "text": [
            "10+10 = 20\n"
          ]
        }
      ]
    },
    {
      "cell_type": "code",
      "metadata": {
        "colab": {
          "base_uri": "https://localhost:8080/"
        },
        "id": "eWJ4v2hyXROs",
        "outputId": "cff0e42c-aa42-48e4-e818-8cef5696e3a9"
      },
      "source": [
        "print(soma(5, 1))"
      ],
      "execution_count": 5,
      "outputs": [
        {
          "output_type": "stream",
          "name": "stdout",
          "text": [
            "5+1 = 6\n",
            "None\n"
          ]
        }
      ]
    },
    {
      "cell_type": "markdown",
      "metadata": {
        "id": "Od-nzDhGXROs"
      },
      "source": [
        "Sintaxe de função com parâmetros e retorno:\n",
        "    \n",
        "<code>\n",
        "def function_name(arg1, arg2, arg3):\n",
        "    code\n",
        "    return code\n",
        "</code>"
      ]
    },
    {
      "cell_type": "markdown",
      "metadata": {
        "id": "J4dWwWkZXROs"
      },
      "source": [
        "**Exemplo 3:**"
      ]
    },
    {
      "cell_type": "markdown",
      "metadata": {
        "id": "6s5CZKWEXROs"
      },
      "source": [
        "Neste caso vamos introduzir a ideia de type hints. Para mais informações veja a [PEP 484](https://www.python.org/dev/peps/pep-0484/)."
      ]
    },
    {
      "cell_type": "code",
      "metadata": {
        "id": "gObe3SuFXROt"
      },
      "source": [
        "def soma(numero_1:float, numero_2:float) -> float:\n",
        "    \"Recebe dois números e retorna a soma entre eles.\"\n",
        "    soma = numero_1+numero_2\n",
        "    return soma"
      ],
      "execution_count": 6,
      "outputs": []
    },
    {
      "cell_type": "code",
      "metadata": {
        "colab": {
          "base_uri": "https://localhost:8080/"
        },
        "id": "jCBp4xnGXROt",
        "outputId": "4f51c458-9693-49eb-b411-6fe0f6cce4d7"
      },
      "source": [
        "soma(10, 5)"
      ],
      "execution_count": 7,
      "outputs": [
        {
          "output_type": "execute_result",
          "data": {
            "text/plain": [
              "15"
            ]
          },
          "metadata": {},
          "execution_count": 7
        }
      ]
    },
    {
      "cell_type": "markdown",
      "metadata": {
        "id": "T9AM3ECxXROu"
      },
      "source": [
        "Funções nativas importantes:"
      ]
    },
    {
      "cell_type": "code",
      "metadata": {
        "colab": {
          "base_uri": "https://localhost:8080/"
        },
        "id": "dARzPR3qXROu",
        "outputId": "da9a325f-951a-4f39-ba55-3d3e8f0bc421"
      },
      "source": [
        "# retorna o tipo do objeto (str, int, float, list, tuple, dict)\n",
        "type('A')"
      ],
      "execution_count": 8,
      "outputs": [
        {
          "output_type": "execute_result",
          "data": {
            "text/plain": [
              "str"
            ]
          },
          "metadata": {},
          "execution_count": 8
        }
      ]
    },
    {
      "cell_type": "code",
      "metadata": {
        "colab": {
          "base_uri": "https://localhost:8080/"
        },
        "id": "Ia6vlKaQXROv",
        "outputId": "4ef986b5-09a5-4c12-a11d-8b6709b1c067"
      },
      "source": [
        "# retorna a soma de array\n",
        "sum([1, 2, 3])"
      ],
      "execution_count": 9,
      "outputs": [
        {
          "output_type": "execute_result",
          "data": {
            "text/plain": [
              "6"
            ]
          },
          "metadata": {},
          "execution_count": 9
        }
      ]
    },
    {
      "cell_type": "code",
      "metadata": {
        "colab": {
          "base_uri": "https://localhost:8080/"
        },
        "id": "5DtPZ26FXROv",
        "outputId": "8f4bdb55-3c78-4206-ced2-784747e60e84"
      },
      "source": [
        "# retorna o tamanho de um array ou cadeia de caracteres\n",
        "len('AAAA')"
      ],
      "execution_count": 10,
      "outputs": [
        {
          "output_type": "execute_result",
          "data": {
            "text/plain": [
              "4"
            ]
          },
          "metadata": {},
          "execution_count": 10
        }
      ]
    },
    {
      "cell_type": "code",
      "metadata": {
        "colab": {
          "base_uri": "https://localhost:8080/"
        },
        "id": "uTXhaeWTXROx",
        "outputId": "45a127e1-c5b8-4976-d146-2d80fed3a496"
      },
      "source": [
        "len([1, 2, 3])"
      ],
      "execution_count": 11,
      "outputs": [
        {
          "output_type": "execute_result",
          "data": {
            "text/plain": [
              "3"
            ]
          },
          "metadata": {},
          "execution_count": 11
        }
      ]
    },
    {
      "cell_type": "code",
      "metadata": {
        "id": "fFI1Ol8hXROy"
      },
      "source": [
        "# cria um intervalo de números inteiros\n",
        "# sintaxe: range(start, stop, end)"
      ],
      "execution_count": 12,
      "outputs": []
    },
    {
      "cell_type": "code",
      "metadata": {
        "colab": {
          "base_uri": "https://localhost:8080/"
        },
        "id": "6gYt0AHkXROy",
        "outputId": "2895c405-6b4d-49a0-f02b-13e674a1eb94"
      },
      "source": [
        "range(1, 10, 2)"
      ],
      "execution_count": 13,
      "outputs": [
        {
          "output_type": "execute_result",
          "data": {
            "text/plain": [
              "range(1, 10, 2)"
            ]
          },
          "metadata": {},
          "execution_count": 13
        }
      ]
    },
    {
      "cell_type": "code",
      "metadata": {
        "colab": {
          "base_uri": "https://localhost:8080/"
        },
        "id": "ikJTlqsSXROy",
        "outputId": "7c16561b-7199-46d7-af4e-d4cd2f345a93"
      },
      "source": [
        "type(range(1, 10, 2))"
      ],
      "execution_count": 14,
      "outputs": [
        {
          "output_type": "execute_result",
          "data": {
            "text/plain": [
              "range"
            ]
          },
          "metadata": {},
          "execution_count": 14
        }
      ]
    },
    {
      "cell_type": "code",
      "metadata": {
        "colab": {
          "base_uri": "https://localhost:8080/"
        },
        "id": "LhtvulVJXROy",
        "outputId": "f7882218-372e-4c38-8735-74667f5ee293"
      },
      "source": [
        "list(range(1, 10, 2))"
      ],
      "execution_count": 15,
      "outputs": [
        {
          "output_type": "execute_result",
          "data": {
            "text/plain": [
              "[1, 3, 5, 7, 9]"
            ]
          },
          "metadata": {},
          "execution_count": 15
        }
      ]
    },
    {
      "cell_type": "code",
      "metadata": {
        "colab": {
          "base_uri": "https://localhost:8080/",
          "height": 36
        },
        "id": "O0VePRxyXROz",
        "outputId": "acaee368-e6d8-4608-9592-3ca8327574d6"
      },
      "source": [
        "# retorna valor máximo em um array ou cadeia de caracteres\n",
        "max('ACVBCBZ')"
      ],
      "execution_count": 16,
      "outputs": [
        {
          "output_type": "execute_result",
          "data": {
            "application/vnd.google.colaboratory.intrinsic+json": {
              "type": "string"
            },
            "text/plain": [
              "'Z'"
            ]
          },
          "metadata": {},
          "execution_count": 16
        }
      ]
    },
    {
      "cell_type": "code",
      "metadata": {
        "colab": {
          "base_uri": "https://localhost:8080/"
        },
        "id": "cQXahi6aXROz",
        "outputId": "cddafe1b-79d0-4b42-f6f6-a4050d5969a3"
      },
      "source": [
        "max([1, 2, 3])"
      ],
      "execution_count": 17,
      "outputs": [
        {
          "output_type": "execute_result",
          "data": {
            "text/plain": [
              "3"
            ]
          },
          "metadata": {},
          "execution_count": 17
        }
      ]
    },
    {
      "cell_type": "code",
      "metadata": {
        "colab": {
          "base_uri": "https://localhost:8080/"
        },
        "id": "A3fpHsKpXROz",
        "outputId": "3254612b-9f26-4cb7-f89f-a8eaacc671e1"
      },
      "source": [
        "# retorna valor mínimo em um array ou cadeia de caracteres\n",
        "min([1, 2, 3])"
      ],
      "execution_count": 18,
      "outputs": [
        {
          "output_type": "execute_result",
          "data": {
            "text/plain": [
              "1"
            ]
          },
          "metadata": {},
          "execution_count": 18
        }
      ]
    },
    {
      "cell_type": "code",
      "metadata": {
        "colab": {
          "base_uri": "https://localhost:8080/",
          "height": 36
        },
        "id": "cP34bQqUXROz",
        "outputId": "11ca590c-af8c-45d4-93a5-9a65172703fd"
      },
      "source": [
        "min('ABBCCZ')"
      ],
      "execution_count": 19,
      "outputs": [
        {
          "output_type": "execute_result",
          "data": {
            "application/vnd.google.colaboratory.intrinsic+json": {
              "type": "string"
            },
            "text/plain": [
              "'A'"
            ]
          },
          "metadata": {},
          "execution_count": 19
        }
      ]
    },
    {
      "cell_type": "markdown",
      "metadata": {
        "id": "Ku553eMuXROz"
      },
      "source": [
        "Agora vamos fazer um exemplo de função aplicada ao nosso trabalho de cientista de dados. Vamos supor que temos que baixar cotação de ações e gerar gráfico de linha para mostrar a evolução de alguma variável no tempo. Como poderíamos automatizar a geração deste gráfico?"
      ]
    },
    {
      "cell_type": "code",
      "metadata": {
        "colab": {
          "base_uri": "https://localhost:8080/"
        },
        "id": "IHzOB03bXROz",
        "outputId": "8863f878-de39-42a2-ec14-89bae38397bd"
      },
      "source": [
        "# caso não tenha o pacote instalado use esse código:\n",
        "!pip install yfinance"
      ],
      "execution_count": 20,
      "outputs": [
        {
          "output_type": "stream",
          "name": "stdout",
          "text": [
            "Collecting yfinance\n",
            "  Downloading yfinance-0.1.66-py2.py3-none-any.whl (25 kB)\n",
            "Requirement already satisfied: numpy>=1.15 in /usr/local/lib/python3.7/dist-packages (from yfinance) (1.19.5)\n",
            "Requirement already satisfied: pandas>=0.24 in /usr/local/lib/python3.7/dist-packages (from yfinance) (1.1.5)\n",
            "Collecting lxml>=4.5.1\n",
            "  Downloading lxml-4.6.4-cp37-cp37m-manylinux_2_17_x86_64.manylinux2014_x86_64.manylinux_2_24_x86_64.whl (6.3 MB)\n",
            "\u001b[K     |████████████████████████████████| 6.3 MB 7.8 MB/s \n",
            "\u001b[?25hRequirement already satisfied: requests>=2.20 in /usr/local/lib/python3.7/dist-packages (from yfinance) (2.23.0)\n",
            "Requirement already satisfied: multitasking>=0.0.7 in /usr/local/lib/python3.7/dist-packages (from yfinance) (0.0.9)\n",
            "Requirement already satisfied: pytz>=2017.2 in /usr/local/lib/python3.7/dist-packages (from pandas>=0.24->yfinance) (2018.9)\n",
            "Requirement already satisfied: python-dateutil>=2.7.3 in /usr/local/lib/python3.7/dist-packages (from pandas>=0.24->yfinance) (2.8.2)\n",
            "Requirement already satisfied: six>=1.5 in /usr/local/lib/python3.7/dist-packages (from python-dateutil>=2.7.3->pandas>=0.24->yfinance) (1.15.0)\n",
            "Requirement already satisfied: idna<3,>=2.5 in /usr/local/lib/python3.7/dist-packages (from requests>=2.20->yfinance) (2.10)\n",
            "Requirement already satisfied: certifi>=2017.4.17 in /usr/local/lib/python3.7/dist-packages (from requests>=2.20->yfinance) (2021.10.8)\n",
            "Requirement already satisfied: chardet<4,>=3.0.2 in /usr/local/lib/python3.7/dist-packages (from requests>=2.20->yfinance) (3.0.4)\n",
            "Requirement already satisfied: urllib3!=1.25.0,!=1.25.1,<1.26,>=1.21.1 in /usr/local/lib/python3.7/dist-packages (from requests>=2.20->yfinance) (1.24.3)\n",
            "Installing collected packages: lxml, yfinance\n",
            "  Attempting uninstall: lxml\n",
            "    Found existing installation: lxml 4.2.6\n",
            "    Uninstalling lxml-4.2.6:\n",
            "      Successfully uninstalled lxml-4.2.6\n",
            "Successfully installed lxml-4.6.4 yfinance-0.1.66\n"
          ]
        }
      ]
    },
    {
      "cell_type": "code",
      "metadata": {
        "id": "UHY3teXVXRO0"
      },
      "source": [
        "# importa o pacote que iremos usar\n",
        "import yfinance as yf"
      ],
      "execution_count": 21,
      "outputs": []
    },
    {
      "cell_type": "markdown",
      "metadata": {
        "id": "8eGlc5dRXRO0"
      },
      "source": [
        "Vamos testar algo para as ações do Itaú."
      ]
    },
    {
      "cell_type": "code",
      "metadata": {
        "id": "WNl9ZZCqXRO0"
      },
      "source": [
        "# vamos passar o ticker da ação que queremos baixar\n",
        "itub4 = yf.Ticker('ITUB4.SA')\n",
        "# pega os dados da ação para o período disponível máximo e armazena em um DataFrame\n",
        "itub4 = itub4.history(period = 'max', actions = False)"
      ],
      "execution_count": 22,
      "outputs": []
    },
    {
      "cell_type": "code",
      "metadata": {
        "colab": {
          "base_uri": "https://localhost:8080/",
          "height": 237
        },
        "id": "_B-WCj6PXRO0",
        "outputId": "9e653815-d97d-43f6-effc-803bc2be733e"
      },
      "source": [
        "# resultado\n",
        "itub4.head()"
      ],
      "execution_count": 23,
      "outputs": [
        {
          "output_type": "execute_result",
          "data": {
            "text/html": [
              "<div>\n",
              "<style scoped>\n",
              "    .dataframe tbody tr th:only-of-type {\n",
              "        vertical-align: middle;\n",
              "    }\n",
              "\n",
              "    .dataframe tbody tr th {\n",
              "        vertical-align: top;\n",
              "    }\n",
              "\n",
              "    .dataframe thead th {\n",
              "        text-align: right;\n",
              "    }\n",
              "</style>\n",
              "<table border=\"1\" class=\"dataframe\">\n",
              "  <thead>\n",
              "    <tr style=\"text-align: right;\">\n",
              "      <th></th>\n",
              "      <th>Open</th>\n",
              "      <th>High</th>\n",
              "      <th>Low</th>\n",
              "      <th>Close</th>\n",
              "      <th>Volume</th>\n",
              "    </tr>\n",
              "    <tr>\n",
              "      <th>Date</th>\n",
              "      <th></th>\n",
              "      <th></th>\n",
              "      <th></th>\n",
              "      <th></th>\n",
              "      <th></th>\n",
              "    </tr>\n",
              "  </thead>\n",
              "  <tbody>\n",
              "    <tr>\n",
              "      <th>2000-12-21</th>\n",
              "      <td>1.774439</td>\n",
              "      <td>1.883489</td>\n",
              "      <td>1.774231</td>\n",
              "      <td>1.865853</td>\n",
              "      <td>74224</td>\n",
              "    </tr>\n",
              "    <tr>\n",
              "      <th>2000-12-22</th>\n",
              "      <td>1.847070</td>\n",
              "      <td>1.847070</td>\n",
              "      <td>1.774022</td>\n",
              "      <td>1.784980</td>\n",
              "      <td>23312</td>\n",
              "    </tr>\n",
              "    <tr>\n",
              "      <th>2000-12-25</th>\n",
              "      <td>1.784980</td>\n",
              "      <td>1.784980</td>\n",
              "      <td>1.784980</td>\n",
              "      <td>1.784980</td>\n",
              "      <td>0</td>\n",
              "    </tr>\n",
              "    <tr>\n",
              "      <th>2000-12-26</th>\n",
              "      <td>1.775170</td>\n",
              "      <td>1.786545</td>\n",
              "      <td>1.758370</td>\n",
              "      <td>1.784458</td>\n",
              "      <td>7851</td>\n",
              "    </tr>\n",
              "    <tr>\n",
              "      <th>2000-12-27</th>\n",
              "      <td>1.815763</td>\n",
              "      <td>1.844983</td>\n",
              "      <td>1.784458</td>\n",
              "      <td>1.844983</td>\n",
              "      <td>26996</td>\n",
              "    </tr>\n",
              "  </tbody>\n",
              "</table>\n",
              "</div>"
            ],
            "text/plain": [
              "                Open      High       Low     Close  Volume\n",
              "Date                                                      \n",
              "2000-12-21  1.774439  1.883489  1.774231  1.865853   74224\n",
              "2000-12-22  1.847070  1.847070  1.774022  1.784980   23312\n",
              "2000-12-25  1.784980  1.784980  1.784980  1.784980       0\n",
              "2000-12-26  1.775170  1.786545  1.758370  1.784458    7851\n",
              "2000-12-27  1.815763  1.844983  1.784458  1.844983   26996"
            ]
          },
          "metadata": {},
          "execution_count": 23
        }
      ]
    },
    {
      "cell_type": "code",
      "metadata": {
        "colab": {
          "base_uri": "https://localhost:8080/",
          "height": 317
        },
        "id": "8m1Ksx8LXRO0",
        "outputId": "a8b5fb23-fc80-4e12-cc22-37482c922ec2"
      },
      "source": [
        "# gráfico de linha para o preço de fechamento\n",
        "itub4.Close.plot(kind = 'line', color = 'black', figsize = (12, 5));"
      ],
      "execution_count": 24,
      "outputs": [
        {
          "output_type": "display_data",
          "data": {
            "image/png": "[encoded data removed]",
            "text/plain": [
              "<Figure size 864x360 with 1 Axes>"
            ]
          },
          "metadata": {
            "needs_background": "light"
          }
        }
      ]
    },
    {
      "cell_type": "markdown",
      "metadata": {
        "id": "uUqAyZD3XRO0"
      },
      "source": [
        "Vamos importar outra biblioteca para nos auxiliar, o matplotlib:"
      ]
    },
    {
      "cell_type": "code",
      "metadata": {
        "id": "LEo1n7ckXRO1"
      },
      "source": [
        "import matplotlib.pyplot as plt"
      ],
      "execution_count": 25,
      "outputs": []
    },
    {
      "cell_type": "code",
      "metadata": {
        "colab": {
          "base_uri": "https://localhost:8080/",
          "height": 350
        },
        "id": "QHjJjafmXRO1",
        "outputId": "f180dba4-4f33-4384-8e74-8e5e09d054d9"
      },
      "source": [
        "intervalo_temporal = itub4.index\n",
        "valores = itub4.Close\n",
        "# ajusta o tamanho da figura\n",
        "plt.figure(figsize = (14, 5))\n",
        "# insere a linha no plot\n",
        "plt.plot(intervalo_temporal, valores, color = 'black', linewidth = 1)\n",
        "# título do gráfico\n",
        "plt.title('Preço de fechamento da ação ITUB4.SA')\n",
        "# ajusta os limites do eixo x\n",
        "date_min = intervalo_temporal.min().date()\n",
        "date_max = intervalo_temporal.max().date()\n",
        "plt.xlim([date_min, date_max])\n",
        "# insere gridlines\n",
        "plt.grid(alpha = 0.5)\n",
        "# rótulos dos eixos x e y\n",
        "plt.xlabel('Tempo')\n",
        "plt.ylabel('Preço de fechamento')\n",
        "plt.show()"
      ],
      "execution_count": 26,
      "outputs": [
        {
          "output_type": "display_data",
          "data": {
            "image/png": "[encoded data removed]",
            "text/plain": [
              "<Figure size 1008x360 with 1 Axes>"
            ]
          },
          "metadata": {
            "needs_background": "light"
          }
        }
      ]
    },
    {
      "cell_type": "markdown",
      "metadata": {
        "id": "1SCnwooyXRO1"
      },
      "source": [
        "Vamos encapsular o código anterior?"
      ]
    },
    {
      "cell_type": "code",
      "metadata": {
        "id": "gimq7lWAXRO1"
      },
      "source": [
        "def gerar_grafico_serie(intervalo_temporal, valores, ticker):\n",
        "    \"\"\"\n",
        "    Gera gráfico de linhas para uma série temporal.\n",
        "    Args:\n",
        "        intervalo_temporal: array DatetimeIndex com intervalo da série temporal\n",
        "        valores: array com os valores da série\n",
        "    \"\"\"\n",
        "    # ajusta o tamanho da figura\n",
        "    plt.figure(figsize = (14, 5))\n",
        "    # insere a linha no plot\n",
        "    plt.plot(intervalo_temporal, valores, color = 'black', linewidth = 1)\n",
        "    # título do gráfico\n",
        "    plt.title(f'Preço de fechamento da ação {ticker}')\n",
        "    # ajusta os limites do eixo x\n",
        "    date_min = intervalo_temporal.min().date()\n",
        "    date_max = intervalo_temporal.max().date()\n",
        "    plt.xlim([date_min, date_max])\n",
        "    # insere gridlines\n",
        "    plt.grid(alpha = 0.5)\n",
        "    # rótulos dos eixos x e y\n",
        "    plt.xlabel('Tempo')\n",
        "    plt.ylabel('Preço de fechamento')\n",
        "    plt.show()"
      ],
      "execution_count": 27,
      "outputs": []
    },
    {
      "cell_type": "code",
      "metadata": {
        "colab": {
          "base_uri": "https://localhost:8080/",
          "height": 350
        },
        "id": "mOrzDl1AXRO1",
        "outputId": "a03347b6-4878-4f43-a652-b4a407c3a14d"
      },
      "source": [
        "gerar_grafico_serie(itub4.index, itub4.Close, 'ITUB4.SA')"
      ],
      "execution_count": 28,
      "outputs": [
        {
          "output_type": "display_data",
          "data": {
            "image/png": "[encoded data removed]",
            "text/plain": [
              "<Figure size 1008x360 with 1 Axes>"
            ]
          },
          "metadata": {
            "needs_background": "light"
          }
        }
      ]
    },
    {
      "cell_type": "markdown",
      "metadata": {
        "id": "KxPuhlNtXRO1"
      },
      "source": [
        "Vamos testar para outro ativo."
      ]
    },
    {
      "cell_type": "code",
      "metadata": {
        "id": "t0voO20YXRO1"
      },
      "source": [
        "petr3 = yf.Ticker('PETR3.SA')\n",
        "petr3 = petr3.history(period = 'max')"
      ],
      "execution_count": 29,
      "outputs": []
    },
    {
      "cell_type": "code",
      "metadata": {
        "colab": {
          "base_uri": "https://localhost:8080/",
          "height": 350
        },
        "id": "AUxgE8FfXRO2",
        "outputId": "6bd6e614-64ad-4e89-f688-7a073be04383"
      },
      "source": [
        "gerar_grafico_serie(petr3.index, petr3.Close, 'PETR3.SA')"
      ],
      "execution_count": 30,
      "outputs": [
        {
          "output_type": "display_data",
          "data": {
            "image/png": "[encoded data removed]",
            "text/plain": [
              "<Figure size 1008x360 with 1 Axes>"
            ]
          },
          "metadata": {
            "needs_background": "light"
          }
        }
      ]
    },
    {
      "cell_type": "markdown",
      "metadata": {
        "id": "WzuZpKktXRO2"
      },
      "source": [
        "## Hands On !\n"
      ]
    },
    {
      "cell_type": "markdown",
      "metadata": {
        "id": "dR8otXscXRO2"
      },
      "source": [
        "### Criando DataFrames com Pandas e NumPy"
      ]
    },
    {
      "cell_type": "code",
      "metadata": {
        "id": "nB5qjoswXRO2"
      },
      "source": [
        "import pandas as pd\n",
        "import numpy as np"
      ],
      "execution_count": null,
      "outputs": []
    },
    {
      "cell_type": "code",
      "metadata": {
        "id": "DjEQKy6UXRO2"
      },
      "source": [
        ""
      ],
      "execution_count": null,
      "outputs": []
    },
    {
      "cell_type": "code",
      "metadata": {
        "id": "d57v67A_XRO2"
      },
      "source": [
        ""
      ],
      "execution_count": null,
      "outputs": []
    },
    {
      "cell_type": "code",
      "metadata": {
        "id": "sUNEXHE4XRO2"
      },
      "source": [
        ""
      ],
      "execution_count": null,
      "outputs": []
    },
    {
      "cell_type": "markdown",
      "metadata": {
        "id": "csj_g3y8XRO2"
      },
      "source": [
        "### Microdados ENEM\n",
        "Neste hands on vamos fazer uma análise exploratória com microdados do ENEM. Nosso objetivo será apresentar os principais comandos da biblioteca Pandas e inserir técnicas de AutoEDA e DataViz.\n",
        "\n",
        "Sugerimos o Google Colab como ambiente de desenvolvimento."
      ]
    },
    {
      "cell_type": "code",
      "metadata": {
        "id": "0JD8diSMXRO2"
      },
      "source": [
        "# carrega o dataset\n",
        "df = pd.read_csv('enem_sample_data.csv')"
      ],
      "execution_count": null,
      "outputs": []
    },
    {
      "cell_type": "code",
      "metadata": {
        "id": "JYQ4sXmPXRO3"
      },
      "source": [
        "display(df)"
      ],
      "execution_count": null,
      "outputs": []
    },
    {
      "cell_type": "markdown",
      "metadata": {
        "id": "2pYPumflXRO3"
      },
      "source": [
        "Descrição do dataset (as linhas trazem informações individualizadas para cada aluno):\n",
        "* NU_INSCRICAO: número da inscrição;\n",
        "* NO_MUNICIPIO_RESIDENCIA: município de residência;\n",
        "* NO_MUNICIPIO_NASCIMENTO: município de nascimento;\n",
        "* TP_COR_RACA: cor/raça, com 6 valores possíveis;\n",
        "* NU_IDADE: idade;\n",
        "* TP_SEXO: sexo, com 2 valores possíveis;\n",
        "* TP_ESTADO_CIVIL: estado civil, com 5 valores possíveis;\n",
        "* IN_TREINEIRO: variável dummy, que diz se o aluno é treineiro ou não;\n",
        "* NU_NOTA_CN: nota de Ciências da Natureza;\n",
        "* NU_NOTA_CH: nota de Ciências Humanas;\n",
        "* NU_NOTA_LC: nota de Linguagens e códigos;\n",
        "* NU_NOTA_MT: nota de matemática;\n",
        "* NU_NOTA_REDACAO: nota de redação;\n",
        "* Q001\n",
        "* Q002\n",
        "* Q025\n",
        "* Q006"
      ]
    },
    {
      "cell_type": "markdown",
      "metadata": {
        "id": "wglvPpT8XRO3"
      },
      "source": [
        "Vamos inspecionar os dados:"
      ]
    },
    {
      "cell_type": "code",
      "metadata": {
        "id": "-hNgmWYRXRO3"
      },
      "source": [
        "# mostra as 5 primeiras linhas do dataset\n",
        "df.head()"
      ],
      "execution_count": null,
      "outputs": []
    },
    {
      "cell_type": "code",
      "metadata": {
        "id": "H3Iwtu9SXRO3"
      },
      "source": [
        "# mostra as 5 últimas linhas do dataset\n",
        "df.tail()"
      ],
      "execution_count": null,
      "outputs": []
    },
    {
      "cell_type": "code",
      "metadata": {
        "id": "tJbU4heTXRO3"
      },
      "source": [
        "# quantidade de linhas e colunas\n",
        "# note que teremos como retorno uma tupla; verifique com type(df.shape)\n",
        "df.shape"
      ],
      "execution_count": null,
      "outputs": []
    },
    {
      "cell_type": "code",
      "metadata": {
        "id": "KNFngEnDXRO3"
      },
      "source": [
        "# inspecionando os dados\n",
        "df.info()"
      ],
      "execution_count": null,
      "outputs": []
    },
    {
      "cell_type": "code",
      "metadata": {
        "id": "8G0JI0zSXRO3"
      },
      "source": [
        "df.dtypes"
      ],
      "execution_count": null,
      "outputs": []
    },
    {
      "cell_type": "code",
      "metadata": {
        "id": "dg5e-R2-XRO4"
      },
      "source": [
        "# verifica o type do objeto\n",
        "type(df)"
      ],
      "execution_count": null,
      "outputs": []
    },
    {
      "cell_type": "markdown",
      "metadata": {
        "id": "md8k-mq2XRO4"
      },
      "source": [
        "Note que `df` é um objeto da classe DataFrame, ou seja, é uma estrutura de dados tabular com linhas e colunas."
      ]
    },
    {
      "cell_type": "code",
      "metadata": {
        "id": "QNWHgJMOXRO4"
      },
      "source": [
        "# verifica percentual de missing values para cada coluna\n",
        "((df.isna().sum()/df.shape[0])*100).sort_values(ascending = False)"
      ],
      "execution_count": null,
      "outputs": []
    },
    {
      "cell_type": "markdown",
      "metadata": {
        "id": "hLj09UlrXRO4"
      },
      "source": [
        "Agora vamos encapsular o código anterior com uma função:"
      ]
    },
    {
      "cell_type": "code",
      "metadata": {
        "id": "gWM8tty4XRO4"
      },
      "source": [
        "type(df)"
      ],
      "execution_count": null,
      "outputs": []
    },
    {
      "cell_type": "code",
      "metadata": {
        "id": "m3Kj0Vk0XRO4"
      },
      "source": [
        "def mostrar_percentual_missing(df):\n",
        "    \"Mostra o percentual de missing em cada coluna do DataFrame.\"\n",
        "    if isinstance(df, pd.core.frame.DataFrame):\n",
        "        return ((df.isna().sum()/df.shape[0])*100).sort_values(ascending = False)"
      ],
      "execution_count": null,
      "outputs": []
    },
    {
      "cell_type": "code",
      "metadata": {
        "id": "W7fRgLLKXRO4"
      },
      "source": [
        "# Vamos renomear as colunas do dataset\n",
        "new_cols = {\n",
        "    'NO_MUNICIPIO_RESIDENCIA': 'municipio_residencia',\n",
        "    'NO_MUNICIPIO_PROVA': 'municipio_prova',\n",
        "    'NU_IDADE': 'idade',\n",
        "    'TP_SEXO': 'sexo',\n",
        "    'TP_ESTADO_CIVIL': 'estado_civil',\n",
        "    'TP_COR_RACA': 'cor_raca',\n",
        "    'IN_TREINEIRO': 'treineiro',\n",
        "    'NU_NOTA_CN': 'ciencias_natureza',\n",
        "    'NU_NOTA_CH': 'ciencias_humanas',\n",
        "    'NU_NOTA_LC': 'linguagens',\n",
        "    'NU_NOTA_MT': 'matematica',\n",
        "    'NU_NOTA_REDACAO': 'redacao',\n",
        "    'Q001': 'escolaridade_pai',\n",
        "    'Q002': 'escolaridade_mae',\n",
        "    'Q006': 'renda_familiar_mensal',\n",
        "    'Q025 ': 'internet'\n",
        "}\n",
        "\n",
        "df.rename(columns = new_cols, inplace = True)"
      ],
      "execution_count": null,
      "outputs": []
    },
    {
      "cell_type": "markdown",
      "metadata": {
        "id": "-dMtKfW8XRO5"
      },
      "source": [
        "Vamos verificar se há linhas duplicadas:"
      ]
    },
    {
      "cell_type": "code",
      "metadata": {
        "id": "udxSX8RzXRO5"
      },
      "source": [
        "# como vemos não há linhas duplicadas\n",
        "df[df.duplicated()]"
      ],
      "execution_count": null,
      "outputs": []
    },
    {
      "cell_type": "code",
      "metadata": {
        "id": "IJCjP_lzXRO5"
      },
      "source": [
        "# outra possibilidade seria:\n",
        "df.duplicated().sum()"
      ],
      "execution_count": null,
      "outputs": []
    },
    {
      "cell_type": "markdown",
      "metadata": {
        "id": "nU7OR5IoXRO5"
      },
      "source": [
        "Caso houvesse linhas duplicadas poderíamos usar a função `.drop_duplicates()` para corrigir este problema."
      ]
    },
    {
      "cell_type": "markdown",
      "metadata": {
        "id": "94R7jGduXRO5"
      },
      "source": [
        "Vamos remover as colunas `NU_INSCRICAO` e `NO_MUNICIPIO_NASCIMENTO`."
      ]
    },
    {
      "cell_type": "code",
      "metadata": {
        "id": "Q_k10LbzXRO5"
      },
      "source": [
        "cols_to_del = [' NU_INSCRICAO', 'NO_MUNICIPIO_NASCIMENTO']\n",
        "df.drop(columns = cols_to_del, inplace = True)"
      ],
      "execution_count": null,
      "outputs": []
    },
    {
      "cell_type": "markdown",
      "metadata": {
        "id": "q5RFxBQIXRO5"
      },
      "source": [
        "Por fim, quanto aos dados ausentes iremos apenas remover, mas há diversas técnicas para preenchimento de missing data que não teremos tempo de abordar aqui."
      ]
    },
    {
      "cell_type": "code",
      "metadata": {
        "id": "xAcSh8Z3XRO5"
      },
      "source": [
        "df.columns"
      ],
      "execution_count": null,
      "outputs": []
    },
    {
      "cell_type": "code",
      "metadata": {
        "id": "I0miLjg8XRO6"
      },
      "source": [
        "# array com as provas\n",
        "provas = df.columns.to_list()[7:12]"
      ],
      "execution_count": null,
      "outputs": []
    },
    {
      "cell_type": "code",
      "metadata": {
        "id": "p58bZeweXRO6"
      },
      "source": [
        "# shape original do dataset\n",
        "df.shape"
      ],
      "execution_count": null,
      "outputs": []
    },
    {
      "cell_type": "code",
      "metadata": {
        "id": "WbwInlyPXRO6"
      },
      "source": [
        "# drop de nan no subset das provas\n",
        "df.dropna(subset = provas).shape"
      ],
      "execution_count": null,
      "outputs": []
    },
    {
      "cell_type": "code",
      "metadata": {
        "id": "WRBFx3MkXRO6"
      },
      "source": [
        "# drop \n",
        "df.dropna(subset = provas, inplace = True)"
      ],
      "execution_count": null,
      "outputs": []
    },
    {
      "cell_type": "code",
      "metadata": {
        "id": "kPmPuL0sXRO6"
      },
      "source": [
        "df.shape"
      ],
      "execution_count": null,
      "outputs": []
    },
    {
      "cell_type": "code",
      "metadata": {
        "id": "lgjpiEnnXRO6"
      },
      "source": [
        "mostrar_percentual_missing(df)"
      ],
      "execution_count": null,
      "outputs": []
    },
    {
      "cell_type": "markdown",
      "metadata": {
        "id": "u2eBvV7rXRO6"
      },
      "source": [
        "Agora precisamos detectar alguma inconsistência com os valores dos campos numéricos."
      ]
    },
    {
      "cell_type": "code",
      "metadata": {
        "id": "iBNI4LFjXRO6"
      },
      "source": [
        "df.describe().T"
      ],
      "execution_count": null,
      "outputs": []
    },
    {
      "cell_type": "markdown",
      "metadata": {
        "id": "9Wzi5QrJXRO7"
      },
      "source": [
        "Vamos automatizar nossa análise exploratória de dados preliminar com `Pandas profiling`."
      ]
    },
    {
      "cell_type": "code",
      "metadata": {
        "id": "QO_48xNHXRO7"
      },
      "source": [
        "from pandas_profiling import ProfileReport"
      ],
      "execution_count": null,
      "outputs": []
    },
    {
      "cell_type": "code",
      "metadata": {
        "id": "yH8Sy3XNXRO7"
      },
      "source": [
        "eda_profile = ProfileReport(df, \n",
        "                            title = 'EDA ENEM', \n",
        "                            html = {'style':{'full_width':True}})"
      ],
      "execution_count": null,
      "outputs": []
    },
    {
      "cell_type": "code",
      "metadata": {
        "id": "zt0uYQEVXRO7"
      },
      "source": [
        "# mostra o relatório\n",
        "#eda_profile.to_notebook_iframe()"
      ],
      "execution_count": null,
      "outputs": []
    },
    {
      "cell_type": "code",
      "metadata": {
        "id": "vEiQE4zaXRO7"
      },
      "source": [
        "# salva o relatório\n",
        "eda_profile.to_file(output_file=\"dataframe_report.html\")"
      ],
      "execution_count": null,
      "outputs": []
    },
    {
      "cell_type": "markdown",
      "metadata": {
        "id": "BOtMGxs4XRO7"
      },
      "source": [
        "## Resumo"
      ]
    },
    {
      "cell_type": "markdown",
      "metadata": {
        "id": "dPTRjvhsXRO7"
      },
      "source": [
        "Sintaxe do `if`:\n",
        "\n",
        "<code>    \n",
        "if condition:\n",
        "    code\n",
        "</code>"
      ]
    },
    {
      "cell_type": "markdown",
      "metadata": {
        "id": "Q2xtj-k6XRO7"
      },
      "source": [
        "Sintaxe do bloco `if-else`:\n",
        "\n",
        "<code>    \n",
        "if condition:\n",
        "    code_1\n",
        "else:\n",
        "    code_2\n",
        "</code>"
      ]
    },
    {
      "cell_type": "markdown",
      "metadata": {
        "id": "1Xc9e8SyXRO8"
      },
      "source": [
        "Sintaxe do bloco `if-elif-else`:\n",
        "\n",
        "<code>    \n",
        "if condition_1:\n",
        "    code_1\n",
        "elif condition_2:\n",
        "    code_2\n",
        "elif condition_3:\n",
        "    code_3\n",
        "else:\n",
        "    code_4\n",
        "</code>"
      ]
    },
    {
      "cell_type": "markdown",
      "metadata": {
        "id": "PVQlNA3PXRO8"
      },
      "source": [
        "Sintaxe do laço for:\n",
        "\n",
        "<code>\n",
        "for value in iterable:\n",
        "    code\n",
        "</code>"
      ]
    },
    {
      "cell_type": "markdown",
      "metadata": {
        "id": "gDoZwv_8XRO8"
      },
      "source": [
        "Sintaxe do laço while:\n",
        "\n",
        "<code>\n",
        "while condition:\n",
        "    code\n",
        "</code>"
      ]
    },
    {
      "cell_type": "markdown",
      "metadata": {
        "id": "lr5hdieaXRO8"
      },
      "source": [
        "Sintaxe funções sem parâmetros e sem retorno:\n",
        "    \n",
        "<code>\n",
        "def function_name():\n",
        "    code\n",
        "</code>"
      ]
    },
    {
      "cell_type": "markdown",
      "metadata": {
        "id": "QEsCJbu3XRO8"
      },
      "source": [
        "Sintaxe função com parâmetros e sem retorno:\n",
        "    \n",
        "<code>\n",
        "def function_name(arg1, arg2, arg3):\n",
        "    code\n",
        "</code>"
      ]
    },
    {
      "cell_type": "markdown",
      "metadata": {
        "id": "hi0VDa_iXRO8"
      },
      "source": [
        "Sintaxe de função com parâmetros e retorno:\n",
        "    \n",
        "<code>\n",
        "def function_name(arg1, arg2, arg3):\n",
        "    code\n",
        "    return code\n",
        "</code>"
      ]
    }
  ]
}