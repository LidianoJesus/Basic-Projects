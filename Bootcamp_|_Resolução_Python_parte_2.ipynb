{
  "nbformat": 4,
  "nbformat_minor": 0,
  "metadata": {
    "colab": {
      "name": "Bootcamp | Resolução Python - parte 2.ipynb",
      "provenance": [],
      "collapsed_sections": [],
      "toc_visible": true,
      "include_colab_link": true
    },
    "kernelspec": {
      "name": "python3",
      "display_name": "Python 3"
    },
    "language_info": {
      "name": "python"
    }
  },
  "cells": [
    {
      "cell_type": "markdown",
      "metadata": {
        "id": "view-in-github",
        "colab_type": "text"
      },
      "source": [
        "<a href=\"https://colab.research.google.com/github/LidianoJesus/Basic-Projects/blob/master/Bootcamp_%7C_Resolu%C3%A7%C3%A3o_Python_parte_2.ipynb\" target=\"_parent\"><img src=\"https://colab.research.google.com/assets/colab-badge.svg\" alt=\"Open In Colab\"/></a>"
      ]
    },
    {
      "cell_type": "markdown",
      "metadata": {
        "id": "t3JcS-vsQ0vN"
      },
      "source": [
        "## Bootcamp - Fim de ano!"
      ]
    },
    {
      "cell_type": "markdown",
      "metadata": {
        "id": "wY0Lj0P5QRfY"
      },
      "source": [
        "Exercícios de python - **parte 2** ☘"
      ]
    },
    {
      "cell_type": "code",
      "metadata": {
        "colab": {
          "base_uri": "https://localhost:8080/"
        },
        "id": "uINyCtJzQM8s",
        "outputId": "db34b4c1-7c4d-45ed-c8c5-061dcaed174d"
      },
      "source": [
        "# Exercício 1 / 15\n",
        "#  ------- Maior de Idade -------\n",
        "\n",
        "Idade = int(input('Qual sua idade: '))\n",
        "\n",
        "if Idade >= 18:\n",
        "  print('Bem vindo!')\n",
        "else:\n",
        "  print('Ops! Você é menor de idade! :X')"
      ],
      "execution_count": null,
      "outputs": [
        {
          "output_type": "stream",
          "name": "stdout",
          "text": [
            "Qual sua idade: 17\n",
            "Ops! Você é menor de idade! :X\n"
          ]
        }
      ]
    },
    {
      "cell_type": "code",
      "metadata": {
        "colab": {
          "base_uri": "https://localhost:8080/"
        },
        "id": "d9P-ezaGRIe3",
        "outputId": "9a5d8d1b-8cab-42a3-e1cd-26c8573a08ab"
      },
      "source": [
        "# Exercício 2 / 15\n",
        "#  ------- Imposto no Salário -------\n",
        "\n",
        "Salario = float(input('Qual seu salario: '))\n",
        "\n",
        "if Salario <= 1903.98:\n",
        "  print('Não paga imposto de renda ;D')\n",
        "\n",
        "elif Salario <= 2826.65:\n",
        "  print(f'Salario liquido:{Salario - (Salario * 0.075)}')\n",
        "\n",
        "elif Salario <= 3751.05:\n",
        "  print(f'Salario liquido:{Salario - (Salario * 0.15)}')\n",
        "\n",
        "else:\n",
        "  print(f'Salario liquido:{Salario - (Salario * 0.225)}')"
      ],
      "execution_count": null,
      "outputs": [
        {
          "output_type": "stream",
          "name": "stdout",
          "text": [
            "Qual seu salario: 2800\n",
            "Salario liquido:2590.0\n"
          ]
        }
      ]
    },
    {
      "cell_type": "code",
      "metadata": {
        "colab": {
          "base_uri": "https://localhost:8080/"
        },
        "id": "SmVUgv9FSHIP",
        "outputId": "cd418f91-995c-44b1-d1a8-106acbc107e3"
      },
      "source": [
        "# Exercício 3 / 15\n",
        "#  ------- Dois números -------\n",
        "\n",
        "Numero_01 = float(input('Numero 1: '))\n",
        "Numero_02 = float(input('Numero 2: '))\n",
        "\n",
        "if Numero_01 > Numero_02:\n",
        "  print(' *** Numero 1 é maior que o 2º ***')\n",
        "else:\n",
        "  print(' *** Numero 2 é maior que o 1º ***')"
      ],
      "execution_count": null,
      "outputs": [
        {
          "output_type": "stream",
          "name": "stdout",
          "text": [
            "Numero 1: 5\n",
            "Numero 2: 7\n",
            " *** Numero 2 é maior que o 1º ***\n"
          ]
        }
      ]
    },
    {
      "cell_type": "code",
      "metadata": {
        "colab": {
          "base_uri": "https://localhost:8080/"
        },
        "id": "mqSu7V0KRy60",
        "outputId": "554ccae1-f4cf-4a95-bd23-d4b7cdc1b90c"
      },
      "source": [
        "# Exercício 4 / 15\n",
        "#  ------- Valor Positico ou Negativo -------\n",
        "\n",
        "Numero_01 = float(input('Passe um valor possitivo ou Negativo: '))\n",
        "\n",
        "if Numero_01 >= 0:\n",
        "  print(' *** Numero é possitivo ***')\n",
        "else:\n",
        "  print(' *** Numero é negativo ***')"
      ],
      "execution_count": null,
      "outputs": [
        {
          "output_type": "stream",
          "name": "stdout",
          "text": [
            "Passe um valor possitivo ou Negativo: -90\n",
            " *** Numero é negativo ***\n"
          ]
        }
      ]
    },
    {
      "cell_type": "code",
      "metadata": {
        "colab": {
          "base_uri": "https://localhost:8080/"
        },
        "id": "njW5283oTaZg",
        "outputId": "1eb1c9eb-f10b-4c64-dacd-bf9e86395402"
      },
      "source": [
        "# Exercício 5 / 15\n",
        "#  ------- Prova de Matematica -------\n",
        "\n",
        "Nota_01 = float(input('Qual a nota da 1º prova: '))\n",
        "Nota_02 = float(input('Qual a nota da 2º prova: '))\n",
        "Nota_03 = float(input('Qual a nota da 3º prova: '))\n",
        "\n",
        "Média = ( Nota_01 + Nota_02 + Nota_03 ) / 3\n",
        "\n",
        "if Média <= 7:\n",
        "  print(' *** Reprovado ***')\n",
        "\n",
        "elif Média > 7 and Média < 10:\n",
        "  print(' *** Aprovado ***')\n",
        "\n",
        "elif Média == 10:\n",
        "  print('*** Aprovado !!! ***')"
      ],
      "execution_count": null,
      "outputs": [
        {
          "output_type": "stream",
          "name": "stdout",
          "text": [
            "Qual a nota da 1º prova: 8\n",
            "Qual a nota da 2º prova: 8\n",
            "Qual a nota da 3º prova: 10\n",
            " *** Aprovado ***\n"
          ]
        }
      ]
    },
    {
      "cell_type": "code",
      "metadata": {
        "colab": {
          "base_uri": "https://localhost:8080/"
        },
        "id": "1gXIFtzlUBVX",
        "outputId": "c42d9fc6-af73-46c5-fa71-2fe610cf4521"
      },
      "source": [
        "# Exercício 6 / 15\n",
        "#  ------- Loop simples -------\n",
        "\n",
        "for Loop in range (0, 10):\n",
        "  print( Loop )"
      ],
      "execution_count": null,
      "outputs": [
        {
          "output_type": "stream",
          "name": "stdout",
          "text": [
            "0\n",
            "1\n",
            "2\n",
            "3\n",
            "4\n",
            "5\n",
            "6\n",
            "7\n",
            "8\n",
            "9\n"
          ]
        }
      ]
    },
    {
      "cell_type": "code",
      "metadata": {
        "colab": {
          "base_uri": "https://localhost:8080/"
        },
        "id": "P57jWhByUajy",
        "outputId": "d5180898-455e-4be3-b372-9b4efeee1241"
      },
      "source": [
        "# Exercício 7 / 15\n",
        "#  ------- Loop simples -------\n",
        "\n",
        "Lista = [2, 4, 6, 8, 10]\n",
        "\n",
        "for Loop in Lista:\n",
        "  print( Loop ** 2 )"
      ],
      "execution_count": null,
      "outputs": [
        {
          "output_type": "stream",
          "name": "stdout",
          "text": [
            "4\n",
            "16\n",
            "36\n",
            "64\n",
            "100\n"
          ]
        }
      ]
    },
    {
      "cell_type": "code",
      "metadata": {
        "colab": {
          "base_uri": "https://localhost:8080/"
        },
        "id": "1vaMHt0FUlaR",
        "outputId": "4b5b554a-d960-4a99-d46e-9606565440dc"
      },
      "source": [
        "# Exercício 8 / 15\n",
        "#  ------- Tabuada -------\n",
        "\n",
        "Numero = int(input('Inseria o valor para a Tabuada: '))\n",
        "\n",
        "print(f'*** Tabuada do {Numero} ***')\n",
        "for Loop in range(1, 11):\n",
        "  print(f'{Loop} x {Numero} = { Loop * Numero } ')"
      ],
      "execution_count": null,
      "outputs": [
        {
          "output_type": "stream",
          "name": "stdout",
          "text": [
            "Inseria o valor para a Tabuada: 8\n",
            "*** Tabuada do 8 ***\n",
            "1 x 8 = 8 \n",
            "2 x 8 = 16 \n",
            "3 x 8 = 24 \n",
            "4 x 8 = 32 \n",
            "5 x 8 = 40 \n",
            "6 x 8 = 48 \n",
            "7 x 8 = 56 \n",
            "8 x 8 = 64 \n",
            "9 x 8 = 72 \n",
            "10 x 8 = 80 \n"
          ]
        }
      ]
    },
    {
      "cell_type": "code",
      "metadata": {
        "colab": {
          "base_uri": "https://localhost:8080/"
        },
        "id": "ifPzNgUPUv4S",
        "outputId": "71ac2b7d-69d1-4634-e1be-28b451fc5335"
      },
      "source": [
        "# Exercício 9 / 15\n",
        "#  ------- Loop simples com enumerate-------\n",
        "\n",
        "Lista = [2, 4, 6, 8, 10]\n",
        "\n",
        "for Contador, Loop in enumerate(Lista):\n",
        "  print( Contador, Loop )"
      ],
      "execution_count": null,
      "outputs": [
        {
          "output_type": "stream",
          "name": "stdout",
          "text": [
            "0 2\n",
            "1 4\n",
            "2 6\n",
            "3 8\n",
            "4 10\n"
          ]
        }
      ]
    },
    {
      "cell_type": "code",
      "metadata": {
        "colab": {
          "base_uri": "https://localhost:8080/"
        },
        "id": "zYjCx1EDVSKe",
        "outputId": "633ebeb7-755d-446f-9e01-69f8658806ec"
      },
      "source": [
        "# Exercício 10 / 15\n",
        "#  ------- Loop com condição -------\n",
        "\n",
        "Lista = [ 1, 2, 3, 4, 5, 6, 7, 8, 9, 10 ]\n",
        "\n",
        "for Loop in Lista:\n",
        "\n",
        "  if ( Loop % 2 ) == 0:\n",
        "    print(f' Dividi {Loop} por 2 e não houve Resto')\n",
        "\n",
        "  else:\n",
        "    print(f' Dividi {Loop} por 2 e o resto foi { Loop % 2}')"
      ],
      "execution_count": null,
      "outputs": [
        {
          "output_type": "stream",
          "name": "stdout",
          "text": [
            " Dividi 1 por 2 e o resto foi 1\n",
            " Dividi 2 por 2 e não houve Resto\n",
            " Dividi 3 por 2 e o resto foi 1\n",
            " Dividi 4 por 2 e não houve Resto\n",
            " Dividi 5 por 2 e o resto foi 1\n",
            " Dividi 6 por 2 e não houve Resto\n",
            " Dividi 7 por 2 e o resto foi 1\n",
            " Dividi 8 por 2 e não houve Resto\n",
            " Dividi 9 por 2 e o resto foi 1\n",
            " Dividi 10 por 2 e não houve Resto\n"
          ]
        }
      ]
    },
    {
      "cell_type": "code",
      "metadata": {
        "colab": {
          "base_uri": "https://localhost:8080/"
        },
        "id": "i_k3qlgSVfJP",
        "outputId": "c55c0bcd-790a-48c6-89d7-2691c99b913c"
      },
      "source": [
        "# Exercício 11 / 15\n",
        "#  ------- While Simples -------\n",
        "\n",
        "x = 1\n",
        "while x < 6:\n",
        "  print(x)\n",
        "  x += 1"
      ],
      "execution_count": null,
      "outputs": [
        {
          "output_type": "stream",
          "name": "stdout",
          "text": [
            "1\n",
            "2\n",
            "3\n",
            "4\n",
            "5\n"
          ]
        }
      ]
    },
    {
      "cell_type": "code",
      "metadata": {
        "colab": {
          "base_uri": "https://localhost:8080/"
        },
        "id": "Z6hL4sYzV_tb",
        "outputId": "fdc4b2ff-5a30-4029-a0c1-5adb91ebb1f8"
      },
      "source": [
        "# Exercício 12 / 15\n",
        "#  ------- While com finalizador  -------\n",
        "\n",
        "Contador = 1\n",
        "\n",
        "while Contador < 6:\n",
        "  print( Contador )\n",
        "  Contador += 1\n",
        "\n",
        "else:\n",
        "  print('Finalizado!')"
      ],
      "execution_count": null,
      "outputs": [
        {
          "output_type": "stream",
          "name": "stdout",
          "text": [
            "1\n",
            "2\n",
            "3\n",
            "4\n",
            "5\n",
            "Finalizado!\n"
          ]
        }
      ]
    },
    {
      "cell_type": "code",
      "metadata": {
        "colab": {
          "base_uri": "https://localhost:8080/"
        },
        "id": "reIiHLXr6iRn",
        "outputId": "ebe3b305-02ce-48d5-deb2-87ccbd5dee75"
      },
      "source": [
        "# Exercício 13 / 15\n",
        "#  ------- Função Soma  -------\n",
        "\n",
        "Numero_01 = int(input('Numero_1: '))\n",
        "Numero_02 = int(input('Numero_2: '))\n",
        "Numero_03 = int(input('Numero_3: '))\n",
        "Numero_04 = int(input('Numero_4: '))\n",
        "\n",
        "def Soma(x, y, z, w):\n",
        "  Somando = x + y + z + w\n",
        "  return print( Somando )\n",
        "\n",
        "Soma(Numero_01, Numero_02, Numero_03, Numero_04 )"
      ],
      "execution_count": null,
      "outputs": [
        {
          "output_type": "stream",
          "name": "stdout",
          "text": [
            "Numero_1: 67\n",
            "Numero_2: 65\n",
            "Numero_3: 23\n",
            "Numero_4: 12\n",
            "167\n"
          ]
        }
      ]
    },
    {
      "cell_type": "code",
      "metadata": {
        "colab": {
          "base_uri": "https://localhost:8080/"
        },
        "id": "DioenPPc6dgZ",
        "outputId": "5b3cb65f-02f2-45fa-ee18-8043078d05ee"
      },
      "source": [
        "# Exercício 14 / 15\n",
        "#  ------- Função ajustando texto  -------\n",
        "\n",
        "Texto = input('Digite Algo: ')\n",
        "\n",
        "def Ajustar_Texto(x):\n",
        "  x = x.lower()\n",
        "  return print( x )\n",
        "\n",
        "Ajustar_Texto(Texto)"
      ],
      "execution_count": null,
      "outputs": [
        {
          "output_type": "stream",
          "name": "stdout",
          "text": [
            "Digite Algo: BOOTCAMP ROOTS\n",
            "bootcamp roots\n"
          ]
        }
      ]
    },
    {
      "cell_type": "code",
      "metadata": {
        "colab": {
          "base_uri": "https://localhost:8080/"
        },
        "id": "gxsdJex1WhSg",
        "outputId": "acfb9889-1e7a-4d35-8822-baf61884687d"
      },
      "source": [
        "# Exercício 15 / 15\n",
        "#  ------- Função Cadastro  -------\n",
        "\n",
        "Nome = str(input('Nome: '))\n",
        "Sobrenome = str(input('Sobrenome: '))\n",
        "Idade = int(input('Idade: '))\n",
        "\n",
        "def Cadastro(Nome, Sobrenome, Idade):\n",
        "\n",
        "  Dados = {\n",
        "      'Nome_Inserido' : Nome,\n",
        "      'Sobre' : Sobrenome,\n",
        "      'Idade' : Idade\n",
        "  }\n",
        "\n",
        "  return print( Dados)\n",
        "\n",
        "Cadastro(Nome, Sobrenome, Idade)"
      ],
      "execution_count": null,
      "outputs": [
        {
          "output_type": "stream",
          "name": "stdout",
          "text": [
            "Nome: Odemir\n",
            "Sobrenome: Depieri\n",
            "Idade: 25\n",
            "{'Nome_Inserido': 'Odemir', 'Sobre': 'Depieri', 'Idade': 25}\n"
          ]
        }
      ]
    }
  ]
}