{
  "nbformat": 4,
  "nbformat_minor": 0,
  "metadata": {
    "colab": {
      "name": "Aula1 - Exercicios.ipynb",
      "provenance": [],
      "authorship_tag": "ABX9TyMmoMUKhrl9qew9wv68K1Mt",
      "include_colab_link": true
    },
    "kernelspec": {
      "name": "python3",
      "display_name": "Python 3"
    },
    "language_info": {
      "name": "python"
    }
  },
  "cells": [
    {
      "cell_type": "markdown",
      "metadata": {
        "id": "view-in-github",
        "colab_type": "text"
      },
      "source": [
        "<a href=\"https://colab.research.google.com/github/LidianoJesus/Basic-Projects/blob/master/Aula1_Exercicios.ipynb\" target=\"_parent\"><img src=\"https://colab.research.google.com/assets/colab-badge.svg\" alt=\"Open In Colab\"/></a>"
      ]
    },
    {
      "cell_type": "code",
      "metadata": {
        "id": "0T7-aV_LQA3D"
      },
      "source": [
        "### 1\n",
        "### Faça um programa na qual o usuario irá inserir seu nome e sobre nome. \n",
        "### Depois imprima a mensagem \"Bem vindo (Nome)(Sobrenome)\""
      ],
      "execution_count": null,
      "outputs": []
    },
    {
      "cell_type": "code",
      "metadata": {
        "colab": {
          "base_uri": "https://localhost:8080/"
        },
        "id": "Zu_z5TxPQou4",
        "outputId": "44595810-6453-49eb-8871-3f3995963f62"
      },
      "source": [
        "Nome = input('Qual seu nome? ')\n",
        "SobreNome = input('Qual seu sobre nome? ')\n",
        "print('Bem vindo' ,Nome, SobreNome)"
      ],
      "execution_count": 6,
      "outputs": [
        {
          "output_type": "stream",
          "name": "stdout",
          "text": [
            "Qual seu nome? Lidiano\n",
            "Qual seu sobre nome? Jesus\n",
            "Bem vindo Lidiano Jesus\n"
          ]
        }
      ]
    },
    {
      "cell_type": "code",
      "metadata": {
        "id": "9GPwvRIXSCQA"
      },
      "source": [
        "### 2\n",
        "### Dividindo valores\n",
        "### Faça um programa para receber dois valores do usuario e depois faça a divisão.\n",
        "### Depois imprima a mensagem na tela para a usuario.\n",
        "### Detalhe, faça o arredondamento de 2 casas decimais."
      ],
      "execution_count": null,
      "outputs": []
    },
    {
      "cell_type": "code",
      "metadata": {
        "colab": {
          "base_uri": "https://localhost:8080/"
        },
        "id": "fIU3fTEcSr4i",
        "outputId": "1561ed11-12be-4284-aa86-2a66d0399c10"
      },
      "source": [
        "Valor1 = int(input('Qual o primeiro valor? '))\n",
        "Valor2 = int(input('Qual o segundo valor? '))\n",
        "divisao = Valor1 / Valor2\n",
        "#print('A divisão do valor é: {}'.format(divisao))\n",
        "print( 'A divisão do valor é: ' ,round (divisao, 2) )"
      ],
      "execution_count": 17,
      "outputs": [
        {
          "output_type": "stream",
          "name": "stdout",
          "text": [
            "Qual o primeiro valor? 6\n",
            "Qual o segundo valor? 7\n",
            "A divisão do valor é:  0.86\n"
          ]
        }
      ]
    },
    {
      "cell_type": "markdown",
      "metadata": {
        "id": "2hZ0zFHoYVYl"
      },
      "source": [
        "3 Faça um programa para receber dois valores e depois concatene as informações.\n",
        "Mostre na tela para ele."
      ]
    },
    {
      "cell_type": "code",
      "metadata": {
        "colab": {
          "base_uri": "https://localhost:8080/"
        },
        "id": "8oBQveZZYokR",
        "outputId": "fa35b39b-0602-4d56-bc71-0bb222836be1"
      },
      "source": [
        "Valor1 = input('Qual o primeiro nome? ')\n",
        "Valor2 = input('Qual o segundo nome? ')\n",
        "DoisValores = Valor1 + ' ' + Valor2 \n",
        "print('Tipo da informação é:', DoisValores)"
      ],
      "execution_count": 22,
      "outputs": [
        {
          "output_type": "stream",
          "name": "stdout",
          "text": [
            "Qual o primeiro nome? Lidiano\n",
            "Qual o segundo nome? Jesus\n",
            "Tipo da informação é: Lidiano Jesus\n"
          ]
        }
      ]
    },
    {
      "cell_type": "markdown",
      "metadata": {
        "id": "xnYbiuUHaV0x"
      },
      "source": [
        "4 Faça um programa que receba 4 notas d provas, na qual o usuario precisa-la inserir.\n",
        "Depois informe a média das notas na tela para usuario."
      ]
    },
    {
      "cell_type": "code",
      "metadata": {
        "colab": {
          "base_uri": "https://localhost:8080/"
        },
        "id": "a5iQY4WyanXT",
        "outputId": "646a90bb-69b1-44f2-e133-c27793581577"
      },
      "source": [
        "Nota1 = float(input('Qual a primeira nota? '))\n",
        "Nota2 = float(input('Qual o segunda nota? '))\n",
        "Nota3 = float(input('Qual o terceira nota? '))\n",
        "Nota4 = float(input('Qual o quarta nota? '))\n",
        "Media = (Nota1 + Nota2 + Nota3 + Nota4) / 4\n",
        "print('A média das notas é: ' , round(Media, 2)) \n",
        "#print('A média das notas é: {}' .format(Media, 2))"
      ],
      "execution_count": 38,
      "outputs": [
        {
          "output_type": "stream",
          "name": "stdout",
          "text": [
            "Qual a primeira nota? 10\n",
            "Qual o segunda nota? 7.5\n",
            "Qual o terceira nota? 8\n",
            "Qual o quarta nota? 5.5\n",
            "A média das notas é:  7.75\n"
          ]
        }
      ]
    },
    {
      "cell_type": "markdown",
      "metadata": {
        "id": "XQDA5xyejtiA"
      },
      "source": [
        "5 Faça um programa que receba valor em metros... E precisara converter os metros para centímetros e milímetros.\n",
        "Lembrete\n",
        "Metro = 100 centimetro\n",
        "Metro = 1000 milímetros"
      ]
    },
    {
      "cell_type": "code",
      "metadata": {
        "colab": {
          "base_uri": "https://localhost:8080/"
        },
        "id": "nfm-zbzBkJfw",
        "outputId": "e477ec56-aec9-4307-cdae-d68a43c8163d"
      },
      "source": [
        "dist = float(input('Digite a distancia em metros: '))\n",
        "metro1 = (dist * 100)\n",
        "metro2 = (dist * 1000)\n",
        "print('A medida em centimetros: ' , round(metro1, 2))\n",
        "print('A medida em milimetros: ' , round(metro2, 2))"
      ],
      "execution_count": 48,
      "outputs": [
        {
          "output_type": "stream",
          "name": "stdout",
          "text": [
            "Digite a distancia em metros: 50\n",
            "A medida em centimetros:  5000.0\n",
            "A medida em milimetros:  50000.0\n"
          ]
        }
      ]
    },
    {
      "cell_type": "markdown",
      "metadata": {
        "id": "pUqdl4imoH--"
      },
      "source": [
        "6 Faça um programa que receba um valor para ser calculda a tabuada... E mostre todos os resultados até 10."
      ]
    },
    {
      "cell_type": "code",
      "metadata": {
        "colab": {
          "base_uri": "https://localhost:8080/"
        },
        "id": "dD06DkGToux6",
        "outputId": "6df44907-3732-4259-c651-2f289eab21f5"
      },
      "source": [
        "valor = float(input('Insira o valor para ser calculado a tabuada: '))\n",
        "print('*** Tabuada *** ')\n",
        "tab1 = (valor * 1)\n",
        "tab2 = (valor * 2)\n",
        "tab3 = (valor * 3)\n",
        "tab4 = (valor * 4)\n",
        "tab5 = (valor * 5)\n",
        "tab6 = (valor * 6)\n",
        "tab7 = (valor * 7)\n",
        "tab8 = (valor * 8)\n",
        "tab9 = (valor * 9)\n",
        "tab10 = (valor * 10)\n",
        "print('{} x 1 = {}' .format(valor, tab1))\n",
        "print('{} x 2 = {}' .format(valor, tab2))\n",
        "print('{} x 3 = {}' .format(valor, tab3))\n",
        "print('{} x 4 = {}' .format(valor, tab4))\n",
        "print('{} x 5 = {}' .format(valor, tab5))\n",
        "print('{} x 6 = {}' .format(valor, tab6))\n",
        "print('{} x 7 = {}' .format(valor, tab7))\n",
        "print('{} x 8 = {}' .format(valor, tab8))\n",
        "print('{} x 9 = {}' .format(valor, tab9))\n",
        "print('{} x 10 = {}' .format(valor, tab10))\n"
      ],
      "execution_count": 54,
      "outputs": [
        {
          "output_type": "stream",
          "name": "stdout",
          "text": [
            "Insira o valor para ser calculado a tabuada: 8\n",
            "*** Tabuada *** \n",
            "8.0 x 1 = 8.0\n",
            "8.0 x 2 = 16.0\n",
            "8.0 x 3 = 24.0\n",
            "8.0 x 4 = 32.0\n",
            "8.0 x 5 = 40.0\n",
            "8.0 x 6 = 48.0\n",
            "8.0 x 7 = 56.0\n",
            "8.0 x 8 = 64.0\n",
            "8.0 x 9 = 72.0\n",
            "8.0 x 10 = 80.0\n"
          ]
        }
      ]
    },
    {
      "cell_type": "markdown",
      "metadata": {
        "id": "yiv8FwYur9uR"
      },
      "source": [
        "7 Conversor de moeda\n",
        "Faça um programa que o usuario cnverta o reais para dólar e euro.\n",
        "Premissas:\n",
        "Dólar está R$ 5,60\n",
        "Euro está R$ 6,20"
      ]
    },
    {
      "cell_type": "code",
      "metadata": {
        "colab": {
          "base_uri": "https://localhost:8080/"
        },
        "id": "Y2DPfldisVyT",
        "outputId": "53255ec0-a748-4620-951a-ef06192c0e61"
      },
      "source": [
        "valor = float(input('Quantos reais deseja converter: R$ '))\n",
        "dolar = valor / 5.60 \n",
        "euro = valor / 6.20\n",
        "print('Em dolares daria: $' , round(dolar, 2))\n",
        "print('Em euros daria: E' , round(euro, 2))\n"
      ],
      "execution_count": 58,
      "outputs": [
        {
          "output_type": "stream",
          "name": "stdout",
          "text": [
            "Quantos reais deseja converter: R$ 10.90\n",
            "Em dolares daria: $ 1.95\n",
            "Em euros daria: E 1.76\n"
          ]
        }
      ]
    },
    {
      "cell_type": "markdown",
      "metadata": {
        "id": "rVwBI8Wnviwa"
      },
      "source": [
        "8 Sorteando um valor.\n",
        "Faça um programa que irá receber 4 nomes e inclua esses nomes em uma lista.\n",
        "Depois sorteei de forma aleatória um nome na lista com a função#Import random\n",
        "ramdon.choice (Sua_Lista)"
      ]
    },
    {
      "cell_type": "code",
      "metadata": {
        "colab": {
          "base_uri": "https://localhost:8080/"
        },
        "id": "c8Rx2aiav9QX",
        "outputId": "41adef66-6c31-48e8-e633-c7911f0bbe3c"
      },
      "source": [
        "import random\n",
        "Nome1 = input('Qual o participante1? ')\n",
        "Nome2 = input('Qual o participante2? ')\n",
        "Nome3 = input('Qual o participante3? ')\n",
        "Nome4 = input('Qual o participante4? ')\n",
        "nomes = ['Nome1', 'Nome2', 'Nome3', 'Nome4']\n",
        "random.choice(nomes)\n",
        "print('Sorteado foi: ' , SelectRandom(nomes) )"
      ],
      "execution_count": 66,
      "outputs": [
        {
          "output_type": "stream",
          "name": "stdout",
          "text": [
            "Qual o participante1? oo\n",
            "Qual o participante2? ss\n",
            "Qual o participante3? cc\n",
            "Qual o participante4? bb\n",
            "Sorteado foi:  Nome1\n"
          ]
        }
      ]
    },
    {
      "cell_type": "markdown",
      "metadata": {
        "id": "Go9Ayz7hzruJ"
      },
      "source": [
        "9 Ordenando apresentação.\n",
        "Faça um programa que irá receber 4 nomes e inclua estes nomes em uma lista.\n",
        "Ordene esses nomes pela ordem alfabética.\n",
        "Import Random\n",
        "random.shuffle(sualista)"
      ]
    },
    {
      "cell_type": "code",
      "metadata": {
        "colab": {
          "base_uri": "https://localhost:8080/"
        },
        "id": "aftTlbdj0DDF",
        "outputId": "49400f05-3d90-49d9-848b-9fa2d9f60bb8"
      },
      "source": [
        "import random\n",
        "Nome1 = input('Qual o participante1? ')\n",
        "Nome2 = input('Qual o participante2? ')\n",
        "Nome3 = input('Qual o participante3? ')\n",
        "Nome4 = input('Qual o participante4? ')\n",
        "nomes = ['Nome1', 'Nome2', 'Nome3', 'Nome4']\n",
        "print(nomes)\n",
        "random.shuffle(nomes)\n",
        "print('Sorteado foi: ' , (nomes) )"
      ],
      "execution_count": 70,
      "outputs": [
        {
          "output_type": "stream",
          "name": "stdout",
          "text": [
            "Qual o participante1? luis\n",
            "Qual o participante2? paulo\n",
            "Qual o participante3? kiko\n",
            "Qual o participante4? leandro\n",
            "['Nome1', 'Nome2', 'Nome3', 'Nome4']\n",
            "Sorteado foi:  ['Nome2', 'Nome3', 'Nome1', 'Nome4']\n"
          ]
        }
      ]
    },
    {
      "cell_type": "markdown",
      "metadata": {
        "id": "kAZBi1ap1svO"
      },
      "source": [
        "10 Formulario de cadastro.\n",
        "Faça um programa que simule um formulario de cadastro. Inclua os dados em um dicionario que o usuario digitar."
      ]
    },
    {
      "cell_type": "code",
      "metadata": {
        "colab": {
          "base_uri": "https://localhost:8080/"
        },
        "id": "QKg380D91-Nt",
        "outputId": "dcfc502e-fd48-4e9f-8a1b-b84028b4cb53"
      },
      "source": [
        "Nome = input('Qual nome? ')\n",
        "Sobrenome = input('Qual o sobrenome? ')\n",
        "Sexo = input('Qual o sexo? ')\n",
        "Idade = int(input('Qual a idade? '))\n",
        "Endereço = input('Qual o endereço? ')\n",
        "Numero = int(input('Qual o numero? '))\n",
        "Bairro = input('Qual o bairro? ')\n",
        "Cidade = input('Qual o cidade? ')\n",
        "Estado = input('Qual o estado? ')\n",
        "Cep = int(input('Qual o cep? '))\n",
        "dados = ['Nome', 'Sobrenome', 'Sexo' , 'Idade', 'Endereço', 'Numero', 'Bairro', 'Cidade', 'Estado', 'Cep']\n",
        "print(dados)\n",
        "\n",
        "print('Dados informados: ' , (dados))"
      ],
      "execution_count": 76,
      "outputs": [
        {
          "output_type": "stream",
          "name": "stdout",
          "text": [
            "Qual nome? rererec\n",
            "Qual o sobrenome? xcxc\n",
            "Qual o sexo? m\n",
            "Qual a idade? 43\n",
            "Qual o endereço? wdada\n",
            "Qual o numero? 7756\n",
            "Qual o bairro? rt\n",
            "Qual o cidade? yh\n",
            "Qual o estado? rt\n",
            "Qual o cep? 446326565\n",
            "['Nome', 'Sobrenome', 'Sexo', 'Idade', 'Endereço', 'Numero', 'Bairro', 'Cidade', 'Estado', 'Cep']\n",
            "Dados informados:  ['Nome', 'Sobrenome', 'Sexo', 'Idade', 'Endereço', 'Numero', 'Bairro', 'Cidade', 'Estado', 'Cep']\n"
          ]
        }
      ]
    }
  ]
}